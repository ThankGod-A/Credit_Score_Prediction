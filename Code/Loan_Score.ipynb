{
 "cells": [
  {
   "cell_type": "markdown",
   "id": "595213f0",
   "metadata": {},
   "source": [
    "Credit Scoring – Determining the creditworthiness of a person or a small, owner-operated business – provided by Utiva\n",
    "\n",
    "This Capstone project was inspired from the Business Case of the just concluded Data Science Fellowship & Applied Analytics with Python Utiva 2021 which i participated in.\n",
    "\n",
    "Data Sources:\n",
    "\n",
    "The credit scoring dataset used in this project was provided by the organizers.\n",
    "\n",
    "The analysis for this project will follow the CRISP-DM pipeline which are;\n",
    "\n",
    "- Business Understanding\n",
    "- Data Understanding\n",
    "- Data Analysis and Preparation\n",
    "- Data Modelling\n",
    "- Results\n",
    "\n",
    "\n",
    "1. Business Understanding\n",
    "\n",
    "- Case Introduction\n",
    "\n",
    "Credit scoring is a statistical analysis performed by lenders and financial institutions to determine the creditworthiness of a person or a small, owner-operated business. Credit scoring is used by lenders to help decide whether to extend or deny credit.\n",
    "\n",
    "- The Goal\n",
    "\n",
    "To analyze credit data to determine the credit worthiness of a person or a small, owner-operated business.\n",
    "\n",
    "To help decide whether to extend or deny credit.\n",
    "\n",
    "To determine the impact credit score have in many financial transactions, including mortgages, auto loans, credit cards, and private loans.\n",
    "\n",
    "\n",
    "2. Data Understanding and Data Preprocessing\n",
    "\n",
    "This stage involves loading the data and performing necessary data cleaning, preprocessing and feature engineering on the data to prepare it for analysis and modelling\n",
    "\n",
    "#### Importing Necessary Libraries"
   ]
  },
  {
   "cell_type": "code",
   "execution_count": 1,
   "id": "277eb954",
   "metadata": {},
   "outputs": [],
   "source": [
    "# Data wrangling\n",
    "import pandas as pd\n",
    "import numpy as np\n",
    "from collections import Counter\n",
    "\n",
    "# Data visualisation\n",
    "import seaborn as sns\n",
    "import matplotlib.pyplot as plt\n",
    "\n",
    "# Model evaluation\n",
    "from sklearn.model_selection import cross_val_score\n",
    "\n",
    "# Hyperparameter tuning\n",
    "from sklearn.model_selection import GridSearchCV\n",
    "\n",
    "# Remove warnings\n",
    "import warnings\n",
    "warnings.filterwarnings('ignore')"
   ]
  },
  {
   "cell_type": "markdown",
   "id": "db60ccc1",
   "metadata": {},
   "source": [
    "#### Loading the datasets into a dataframe"
   ]
  },
  {
   "cell_type": "code",
   "execution_count": 2,
   "id": "8c12a9cb",
   "metadata": {},
   "outputs": [],
   "source": [
    "train = pd.read_csv(r\"/Users/DieuMerci/Desktop/Data Analytics:Science/Complete Python/Credit_Scoring_Utiva_Challenge Dataset/train.csv\")\n",
    "\n",
    "test = pd.read_csv(r\"/Users/DieuMerci/Desktop/Data Analytics:Science/Complete Python/Credit_Scoring_Utiva_Challenge Dataset/test.csv\")\n"
   ]
  },
  {
   "cell_type": "code",
   "execution_count": 3,
   "id": "83e7f88e",
   "metadata": {},
   "outputs": [
    {
     "data": {
      "text/html": [
       "<div>\n",
       "<style scoped>\n",
       "    .dataframe tbody tr th:only-of-type {\n",
       "        vertical-align: middle;\n",
       "    }\n",
       "\n",
       "    .dataframe tbody tr th {\n",
       "        vertical-align: top;\n",
       "    }\n",
       "\n",
       "    .dataframe thead th {\n",
       "        text-align: right;\n",
       "    }\n",
       "</style>\n",
       "<table border=\"1\" class=\"dataframe\">\n",
       "  <thead>\n",
       "    <tr style=\"text-align: right;\">\n",
       "      <th></th>\n",
       "      <th>Id</th>\n",
       "      <th>default</th>\n",
       "    </tr>\n",
       "  </thead>\n",
       "  <tbody>\n",
       "    <tr>\n",
       "      <th>0</th>\n",
       "      <td>2</td>\n",
       "      <td>0</td>\n",
       "    </tr>\n",
       "    <tr>\n",
       "      <th>1</th>\n",
       "      <td>4</td>\n",
       "      <td>1</td>\n",
       "    </tr>\n",
       "    <tr>\n",
       "      <th>2</th>\n",
       "      <td>6</td>\n",
       "      <td>1</td>\n",
       "    </tr>\n",
       "    <tr>\n",
       "      <th>3</th>\n",
       "      <td>13</td>\n",
       "      <td>1</td>\n",
       "    </tr>\n",
       "    <tr>\n",
       "      <th>4</th>\n",
       "      <td>18</td>\n",
       "      <td>1</td>\n",
       "    </tr>\n",
       "    <tr>\n",
       "      <th>...</th>\n",
       "      <td>...</td>\n",
       "      <td>...</td>\n",
       "    </tr>\n",
       "    <tr>\n",
       "      <th>287</th>\n",
       "      <td>992</td>\n",
       "      <td>1</td>\n",
       "    </tr>\n",
       "    <tr>\n",
       "      <th>288</th>\n",
       "      <td>993</td>\n",
       "      <td>1</td>\n",
       "    </tr>\n",
       "    <tr>\n",
       "      <th>289</th>\n",
       "      <td>995</td>\n",
       "      <td>1</td>\n",
       "    </tr>\n",
       "    <tr>\n",
       "      <th>290</th>\n",
       "      <td>996</td>\n",
       "      <td>1</td>\n",
       "    </tr>\n",
       "    <tr>\n",
       "      <th>291</th>\n",
       "      <td>999</td>\n",
       "      <td>1</td>\n",
       "    </tr>\n",
       "  </tbody>\n",
       "</table>\n",
       "<p>292 rows × 2 columns</p>\n",
       "</div>"
      ],
      "text/plain": [
       "      Id  default\n",
       "0      2        0\n",
       "1      4        1\n",
       "2      6        1\n",
       "3     13        1\n",
       "4     18        1\n",
       "..   ...      ...\n",
       "287  992        1\n",
       "288  993        1\n",
       "289  995        1\n",
       "290  996        1\n",
       "291  999        1\n",
       "\n",
       "[292 rows x 2 columns]"
      ]
     },
     "execution_count": 3,
     "metadata": {},
     "output_type": "execute_result"
    }
   ],
   "source": [
    "sample_submission = pd.read_csv(r\"/Users/DieuMerci/Desktop/Data Analytics:Science/Complete Python/Credit_Scoring_Utiva_Challenge Dataset/sample_submission.csv\")\n",
    "\n",
    "sample_submission"
   ]
  },
  {
   "cell_type": "code",
   "execution_count": 4,
   "id": "6641550e",
   "metadata": {},
   "outputs": [
    {
     "data": {
      "text/plain": [
       "((708, 24), (292, 23), (292, 2))"
      ]
     },
     "execution_count": 4,
     "metadata": {},
     "output_type": "execute_result"
    }
   ],
   "source": [
    "train.shape, test.shape, sample_submission.shape"
   ]
  },
  {
   "cell_type": "code",
   "execution_count": 5,
   "id": "3041a07b",
   "metadata": {},
   "outputs": [
    {
     "data": {
      "text/html": [
       "<div>\n",
       "<style scoped>\n",
       "    .dataframe tbody tr th:only-of-type {\n",
       "        vertical-align: middle;\n",
       "    }\n",
       "\n",
       "    .dataframe tbody tr th {\n",
       "        vertical-align: top;\n",
       "    }\n",
       "\n",
       "    .dataframe thead th {\n",
       "        text-align: right;\n",
       "    }\n",
       "</style>\n",
       "<table border=\"1\" class=\"dataframe\">\n",
       "  <thead>\n",
       "    <tr style=\"text-align: right;\">\n",
       "      <th></th>\n",
       "      <th>Unnamed: 0</th>\n",
       "      <th>checking_balance</th>\n",
       "      <th>months_loan_duration</th>\n",
       "      <th>credit_history</th>\n",
       "      <th>purpose</th>\n",
       "      <th>amount</th>\n",
       "      <th>savings_balance</th>\n",
       "      <th>employment_length</th>\n",
       "      <th>installment_rate</th>\n",
       "      <th>personal_status</th>\n",
       "      <th>...</th>\n",
       "      <th>installment_plan</th>\n",
       "      <th>housing</th>\n",
       "      <th>existing_credits</th>\n",
       "      <th>default</th>\n",
       "      <th>dependents</th>\n",
       "      <th>telephone</th>\n",
       "      <th>foreign_worker</th>\n",
       "      <th>job</th>\n",
       "      <th>gender</th>\n",
       "      <th>Id</th>\n",
       "    </tr>\n",
       "  </thead>\n",
       "  <tbody>\n",
       "    <tr>\n",
       "      <th>0</th>\n",
       "      <td>0</td>\n",
       "      <td>-43.0</td>\n",
       "      <td>6</td>\n",
       "      <td>critical</td>\n",
       "      <td>radio/tv</td>\n",
       "      <td>1169</td>\n",
       "      <td>NaN</td>\n",
       "      <td>13 years</td>\n",
       "      <td>4</td>\n",
       "      <td>single</td>\n",
       "      <td>...</td>\n",
       "      <td>none</td>\n",
       "      <td>own</td>\n",
       "      <td>2</td>\n",
       "      <td>0</td>\n",
       "      <td>1</td>\n",
       "      <td>2.349340e+09</td>\n",
       "      <td>yes</td>\n",
       "      <td>skilled employee</td>\n",
       "      <td>male</td>\n",
       "      <td>0</td>\n",
       "    </tr>\n",
       "    <tr>\n",
       "      <th>1</th>\n",
       "      <td>1</td>\n",
       "      <td>75.0</td>\n",
       "      <td>48</td>\n",
       "      <td>repaid</td>\n",
       "      <td>radio/tv</td>\n",
       "      <td>5951</td>\n",
       "      <td>89.0</td>\n",
       "      <td>2 years</td>\n",
       "      <td>2</td>\n",
       "      <td>NaN</td>\n",
       "      <td>...</td>\n",
       "      <td>none</td>\n",
       "      <td>own</td>\n",
       "      <td>1</td>\n",
       "      <td>1</td>\n",
       "      <td>1</td>\n",
       "      <td>NaN</td>\n",
       "      <td>yes</td>\n",
       "      <td>skilled employee</td>\n",
       "      <td>female</td>\n",
       "      <td>1</td>\n",
       "    </tr>\n",
       "    <tr>\n",
       "      <th>2</th>\n",
       "      <td>3</td>\n",
       "      <td>-32.0</td>\n",
       "      <td>42</td>\n",
       "      <td>repaid</td>\n",
       "      <td>furniture</td>\n",
       "      <td>7882</td>\n",
       "      <td>9.0</td>\n",
       "      <td>5 years</td>\n",
       "      <td>2</td>\n",
       "      <td>single</td>\n",
       "      <td>...</td>\n",
       "      <td>none</td>\n",
       "      <td>for free</td>\n",
       "      <td>1</td>\n",
       "      <td>0</td>\n",
       "      <td>2</td>\n",
       "      <td>NaN</td>\n",
       "      <td>yes</td>\n",
       "      <td>skilled employee</td>\n",
       "      <td>male</td>\n",
       "      <td>3</td>\n",
       "    </tr>\n",
       "  </tbody>\n",
       "</table>\n",
       "<p>3 rows × 24 columns</p>\n",
       "</div>"
      ],
      "text/plain": [
       "   Unnamed: 0  checking_balance  months_loan_duration credit_history  \\\n",
       "0           0             -43.0                     6       critical   \n",
       "1           1              75.0                    48         repaid   \n",
       "2           3             -32.0                    42         repaid   \n",
       "\n",
       "     purpose  amount  savings_balance employment_length  installment_rate  \\\n",
       "0   radio/tv    1169              NaN          13 years                 4   \n",
       "1   radio/tv    5951             89.0           2 years                 2   \n",
       "2  furniture    7882              9.0           5 years                 2   \n",
       "\n",
       "  personal_status  ... installment_plan   housing existing_credits  default  \\\n",
       "0          single  ...             none       own                2        0   \n",
       "1             NaN  ...             none       own                1        1   \n",
       "2          single  ...             none  for free                1        0   \n",
       "\n",
       "  dependents     telephone  foreign_worker               job  gender  Id  \n",
       "0          1  2.349340e+09             yes  skilled employee    male   0  \n",
       "1          1           NaN             yes  skilled employee  female   1  \n",
       "2          2           NaN             yes  skilled employee    male   3  \n",
       "\n",
       "[3 rows x 24 columns]"
      ]
     },
     "execution_count": 5,
     "metadata": {},
     "output_type": "execute_result"
    }
   ],
   "source": [
    "train.head(3)"
   ]
  },
  {
   "cell_type": "code",
   "execution_count": 6,
   "id": "bb72c98d",
   "metadata": {},
   "outputs": [
    {
     "data": {
      "text/html": [
       "<div>\n",
       "<style scoped>\n",
       "    .dataframe tbody tr th:only-of-type {\n",
       "        vertical-align: middle;\n",
       "    }\n",
       "\n",
       "    .dataframe tbody tr th {\n",
       "        vertical-align: top;\n",
       "    }\n",
       "\n",
       "    .dataframe thead th {\n",
       "        text-align: right;\n",
       "    }\n",
       "</style>\n",
       "<table border=\"1\" class=\"dataframe\">\n",
       "  <thead>\n",
       "    <tr style=\"text-align: right;\">\n",
       "      <th></th>\n",
       "      <th>Unnamed: 0</th>\n",
       "      <th>checking_balance</th>\n",
       "      <th>months_loan_duration</th>\n",
       "      <th>credit_history</th>\n",
       "      <th>purpose</th>\n",
       "      <th>amount</th>\n",
       "      <th>savings_balance</th>\n",
       "      <th>employment_length</th>\n",
       "      <th>installment_rate</th>\n",
       "      <th>personal_status</th>\n",
       "      <th>...</th>\n",
       "      <th>installment_plan</th>\n",
       "      <th>housing</th>\n",
       "      <th>existing_credits</th>\n",
       "      <th>default</th>\n",
       "      <th>dependents</th>\n",
       "      <th>telephone</th>\n",
       "      <th>foreign_worker</th>\n",
       "      <th>job</th>\n",
       "      <th>gender</th>\n",
       "      <th>Id</th>\n",
       "    </tr>\n",
       "  </thead>\n",
       "  <tbody>\n",
       "    <tr>\n",
       "      <th>705</th>\n",
       "      <td>994</td>\n",
       "      <td>NaN</td>\n",
       "      <td>12</td>\n",
       "      <td>repaid</td>\n",
       "      <td>car (new)</td>\n",
       "      <td>2390</td>\n",
       "      <td>NaN</td>\n",
       "      <td>17 years</td>\n",
       "      <td>4</td>\n",
       "      <td>single</td>\n",
       "      <td>...</td>\n",
       "      <td>none</td>\n",
       "      <td>own</td>\n",
       "      <td>1</td>\n",
       "      <td>0</td>\n",
       "      <td>1</td>\n",
       "      <td>2.341832e+09</td>\n",
       "      <td>yes</td>\n",
       "      <td>skilled employee</td>\n",
       "      <td>male</td>\n",
       "      <td>994</td>\n",
       "    </tr>\n",
       "    <tr>\n",
       "      <th>706</th>\n",
       "      <td>997</td>\n",
       "      <td>NaN</td>\n",
       "      <td>12</td>\n",
       "      <td>repaid</td>\n",
       "      <td>radio/tv</td>\n",
       "      <td>804</td>\n",
       "      <td>44.0</td>\n",
       "      <td>13 years</td>\n",
       "      <td>4</td>\n",
       "      <td>single</td>\n",
       "      <td>...</td>\n",
       "      <td>none</td>\n",
       "      <td>own</td>\n",
       "      <td>1</td>\n",
       "      <td>0</td>\n",
       "      <td>1</td>\n",
       "      <td>NaN</td>\n",
       "      <td>yes</td>\n",
       "      <td>skilled employee</td>\n",
       "      <td>male</td>\n",
       "      <td>997</td>\n",
       "    </tr>\n",
       "    <tr>\n",
       "      <th>707</th>\n",
       "      <td>998</td>\n",
       "      <td>-18.0</td>\n",
       "      <td>45</td>\n",
       "      <td>repaid</td>\n",
       "      <td>radio/tv</td>\n",
       "      <td>1845</td>\n",
       "      <td>31.0</td>\n",
       "      <td>2 years</td>\n",
       "      <td>4</td>\n",
       "      <td>single</td>\n",
       "      <td>...</td>\n",
       "      <td>none</td>\n",
       "      <td>for free</td>\n",
       "      <td>1</td>\n",
       "      <td>1</td>\n",
       "      <td>1</td>\n",
       "      <td>2.342257e+09</td>\n",
       "      <td>yes</td>\n",
       "      <td>skilled employee</td>\n",
       "      <td>male</td>\n",
       "      <td>998</td>\n",
       "    </tr>\n",
       "  </tbody>\n",
       "</table>\n",
       "<p>3 rows × 24 columns</p>\n",
       "</div>"
      ],
      "text/plain": [
       "     Unnamed: 0  checking_balance  months_loan_duration credit_history  \\\n",
       "705         994               NaN                    12         repaid   \n",
       "706         997               NaN                    12         repaid   \n",
       "707         998             -18.0                    45         repaid   \n",
       "\n",
       "       purpose  amount  savings_balance employment_length  installment_rate  \\\n",
       "705  car (new)    2390              NaN          17 years                 4   \n",
       "706   radio/tv     804             44.0          13 years                 4   \n",
       "707   radio/tv    1845             31.0           2 years                 4   \n",
       "\n",
       "    personal_status  ... installment_plan   housing existing_credits  default  \\\n",
       "705          single  ...             none       own                1        0   \n",
       "706          single  ...             none       own                1        0   \n",
       "707          single  ...             none  for free                1        1   \n",
       "\n",
       "    dependents     telephone  foreign_worker               job  gender   Id  \n",
       "705          1  2.341832e+09             yes  skilled employee    male  994  \n",
       "706          1           NaN             yes  skilled employee    male  997  \n",
       "707          1  2.342257e+09             yes  skilled employee    male  998  \n",
       "\n",
       "[3 rows x 24 columns]"
      ]
     },
     "execution_count": 6,
     "metadata": {},
     "output_type": "execute_result"
    }
   ],
   "source": [
    "train.tail(3)"
   ]
  },
  {
   "cell_type": "code",
   "execution_count": 7,
   "id": "8986612d",
   "metadata": {},
   "outputs": [
    {
     "data": {
      "text/html": [
       "<div>\n",
       "<style scoped>\n",
       "    .dataframe tbody tr th:only-of-type {\n",
       "        vertical-align: middle;\n",
       "    }\n",
       "\n",
       "    .dataframe tbody tr th {\n",
       "        vertical-align: top;\n",
       "    }\n",
       "\n",
       "    .dataframe thead th {\n",
       "        text-align: right;\n",
       "    }\n",
       "</style>\n",
       "<table border=\"1\" class=\"dataframe\">\n",
       "  <thead>\n",
       "    <tr style=\"text-align: right;\">\n",
       "      <th></th>\n",
       "      <th>Id</th>\n",
       "      <th>default</th>\n",
       "    </tr>\n",
       "  </thead>\n",
       "  <tbody>\n",
       "    <tr>\n",
       "      <th>0</th>\n",
       "      <td>2</td>\n",
       "      <td>0</td>\n",
       "    </tr>\n",
       "    <tr>\n",
       "      <th>1</th>\n",
       "      <td>4</td>\n",
       "      <td>1</td>\n",
       "    </tr>\n",
       "    <tr>\n",
       "      <th>2</th>\n",
       "      <td>6</td>\n",
       "      <td>1</td>\n",
       "    </tr>\n",
       "    <tr>\n",
       "      <th>3</th>\n",
       "      <td>13</td>\n",
       "      <td>1</td>\n",
       "    </tr>\n",
       "    <tr>\n",
       "      <th>4</th>\n",
       "      <td>18</td>\n",
       "      <td>1</td>\n",
       "    </tr>\n",
       "  </tbody>\n",
       "</table>\n",
       "</div>"
      ],
      "text/plain": [
       "   Id  default\n",
       "0   2        0\n",
       "1   4        1\n",
       "2   6        1\n",
       "3  13        1\n",
       "4  18        1"
      ]
     },
     "execution_count": 7,
     "metadata": {},
     "output_type": "execute_result"
    }
   ],
   "source": [
    "sample_submission.head()"
   ]
  },
  {
   "cell_type": "markdown",
   "id": "0046dd93",
   "metadata": {},
   "source": [
    "#### Data Preprocessing and Data Cleaning"
   ]
  },
  {
   "cell_type": "code",
   "execution_count": 8,
   "id": "8f9ae6be",
   "metadata": {},
   "outputs": [
    {
     "name": "stdout",
     "output_type": "stream",
     "text": [
      "<class 'pandas.core.frame.DataFrame'>\n",
      "RangeIndex: 708 entries, 0 to 707\n",
      "Data columns (total 24 columns):\n",
      " #   Column                Non-Null Count  Dtype  \n",
      "---  ------                --------------  -----  \n",
      " 0   Unnamed: 0            708 non-null    int64  \n",
      " 1   checking_balance      427 non-null    float64\n",
      " 2   months_loan_duration  708 non-null    int64  \n",
      " 3   credit_history        708 non-null    object \n",
      " 4   purpose               708 non-null    object \n",
      " 5   amount                708 non-null    int64  \n",
      " 6   savings_balance       579 non-null    float64\n",
      " 7   employment_length     661 non-null    object \n",
      " 8   installment_rate      708 non-null    int64  \n",
      " 9   personal_status       498 non-null    object \n",
      " 10  other_debtors         708 non-null    object \n",
      " 11  residence_history     621 non-null    object \n",
      " 12  property              708 non-null    object \n",
      " 13  age                   708 non-null    int64  \n",
      " 14  installment_plan      708 non-null    object \n",
      " 15  housing               708 non-null    object \n",
      " 16  existing_credits      708 non-null    int64  \n",
      " 17  default               708 non-null    int64  \n",
      " 18  dependents            708 non-null    int64  \n",
      " 19  telephone             300 non-null    float64\n",
      " 20  foreign_worker        708 non-null    object \n",
      " 21  job                   708 non-null    object \n",
      " 22  gender                708 non-null    object \n",
      " 23  Id                    708 non-null    int64  \n",
      "dtypes: float64(3), int64(9), object(12)\n",
      "memory usage: 132.9+ KB\n"
     ]
    }
   ],
   "source": [
    "train.info()"
   ]
  },
  {
   "cell_type": "code",
   "execution_count": 9,
   "id": "388c2bcb",
   "metadata": {},
   "outputs": [
    {
     "data": {
      "text/html": [
       "<div>\n",
       "<style scoped>\n",
       "    .dataframe tbody tr th:only-of-type {\n",
       "        vertical-align: middle;\n",
       "    }\n",
       "\n",
       "    .dataframe tbody tr th {\n",
       "        vertical-align: top;\n",
       "    }\n",
       "\n",
       "    .dataframe thead th {\n",
       "        text-align: right;\n",
       "    }\n",
       "</style>\n",
       "<table border=\"1\" class=\"dataframe\">\n",
       "  <thead>\n",
       "    <tr style=\"text-align: right;\">\n",
       "      <th></th>\n",
       "      <th>Unnamed: 0</th>\n",
       "      <th>checking_balance</th>\n",
       "      <th>months_loan_duration</th>\n",
       "      <th>amount</th>\n",
       "      <th>savings_balance</th>\n",
       "      <th>installment_rate</th>\n",
       "      <th>age</th>\n",
       "      <th>existing_credits</th>\n",
       "      <th>default</th>\n",
       "      <th>dependents</th>\n",
       "      <th>telephone</th>\n",
       "      <th>Id</th>\n",
       "    </tr>\n",
       "  </thead>\n",
       "  <tbody>\n",
       "    <tr>\n",
       "      <th>count</th>\n",
       "      <td>708.000000</td>\n",
       "      <td>427.000000</td>\n",
       "      <td>708.000000</td>\n",
       "      <td>708.000000</td>\n",
       "      <td>579.000000</td>\n",
       "      <td>708.000000</td>\n",
       "      <td>708.000000</td>\n",
       "      <td>708.000000</td>\n",
       "      <td>708.000000</td>\n",
       "      <td>708.000000</td>\n",
       "      <td>3.000000e+02</td>\n",
       "      <td>708.000000</td>\n",
       "    </tr>\n",
       "    <tr>\n",
       "      <th>mean</th>\n",
       "      <td>489.059322</td>\n",
       "      <td>103.133489</td>\n",
       "      <td>20.772599</td>\n",
       "      <td>3237.413842</td>\n",
       "      <td>789.058722</td>\n",
       "      <td>2.966102</td>\n",
       "      <td>35.877119</td>\n",
       "      <td>1.423729</td>\n",
       "      <td>0.298023</td>\n",
       "      <td>1.153955</td>\n",
       "      <td>2.344898e+09</td>\n",
       "      <td>489.059322</td>\n",
       "    </tr>\n",
       "    <tr>\n",
       "      <th>std</th>\n",
       "      <td>288.583071</td>\n",
       "      <td>220.425812</td>\n",
       "      <td>11.957515</td>\n",
       "      <td>2740.753878</td>\n",
       "      <td>2997.126937</td>\n",
       "      <td>1.116411</td>\n",
       "      <td>11.556534</td>\n",
       "      <td>0.595696</td>\n",
       "      <td>0.457713</td>\n",
       "      <td>0.361161</td>\n",
       "      <td>3.043729e+06</td>\n",
       "      <td>288.583071</td>\n",
       "    </tr>\n",
       "    <tr>\n",
       "      <th>min</th>\n",
       "      <td>0.000000</td>\n",
       "      <td>-50.000000</td>\n",
       "      <td>4.000000</td>\n",
       "      <td>250.000000</td>\n",
       "      <td>0.000000</td>\n",
       "      <td>1.000000</td>\n",
       "      <td>19.000000</td>\n",
       "      <td>1.000000</td>\n",
       "      <td>0.000000</td>\n",
       "      <td>1.000000</td>\n",
       "      <td>2.340000e+09</td>\n",
       "      <td>0.000000</td>\n",
       "    </tr>\n",
       "    <tr>\n",
       "      <th>25%</th>\n",
       "      <td>236.500000</td>\n",
       "      <td>-21.000000</td>\n",
       "      <td>12.000000</td>\n",
       "      <td>1374.000000</td>\n",
       "      <td>32.000000</td>\n",
       "      <td>2.000000</td>\n",
       "      <td>27.000000</td>\n",
       "      <td>1.000000</td>\n",
       "      <td>0.000000</td>\n",
       "      <td>1.000000</td>\n",
       "      <td>2.341990e+09</td>\n",
       "      <td>236.500000</td>\n",
       "    </tr>\n",
       "    <tr>\n",
       "      <th>50%</th>\n",
       "      <td>482.500000</td>\n",
       "      <td>26.000000</td>\n",
       "      <td>18.000000</td>\n",
       "      <td>2309.000000</td>\n",
       "      <td>65.000000</td>\n",
       "      <td>3.000000</td>\n",
       "      <td>33.000000</td>\n",
       "      <td>1.000000</td>\n",
       "      <td>0.000000</td>\n",
       "      <td>1.000000</td>\n",
       "      <td>2.344832e+09</td>\n",
       "      <td>482.500000</td>\n",
       "    </tr>\n",
       "    <tr>\n",
       "      <th>75%</th>\n",
       "      <td>738.250000</td>\n",
       "      <td>130.500000</td>\n",
       "      <td>24.000000</td>\n",
       "      <td>3960.500000</td>\n",
       "      <td>205.000000</td>\n",
       "      <td>4.000000</td>\n",
       "      <td>42.000000</td>\n",
       "      <td>2.000000</td>\n",
       "      <td>1.000000</td>\n",
       "      <td>1.000000</td>\n",
       "      <td>2.347731e+09</td>\n",
       "      <td>738.250000</td>\n",
       "    </tr>\n",
       "    <tr>\n",
       "      <th>max</th>\n",
       "      <td>998.000000</td>\n",
       "      <td>999.000000</td>\n",
       "      <td>72.000000</td>\n",
       "      <td>18424.000000</td>\n",
       "      <td>19970.000000</td>\n",
       "      <td>4.000000</td>\n",
       "      <td>75.000000</td>\n",
       "      <td>4.000000</td>\n",
       "      <td>1.000000</td>\n",
       "      <td>2.000000</td>\n",
       "      <td>2.349986e+09</td>\n",
       "      <td>998.000000</td>\n",
       "    </tr>\n",
       "  </tbody>\n",
       "</table>\n",
       "</div>"
      ],
      "text/plain": [
       "       Unnamed: 0  checking_balance  months_loan_duration        amount  \\\n",
       "count  708.000000        427.000000            708.000000    708.000000   \n",
       "mean   489.059322        103.133489             20.772599   3237.413842   \n",
       "std    288.583071        220.425812             11.957515   2740.753878   \n",
       "min      0.000000        -50.000000              4.000000    250.000000   \n",
       "25%    236.500000        -21.000000             12.000000   1374.000000   \n",
       "50%    482.500000         26.000000             18.000000   2309.000000   \n",
       "75%    738.250000        130.500000             24.000000   3960.500000   \n",
       "max    998.000000        999.000000             72.000000  18424.000000   \n",
       "\n",
       "       savings_balance  installment_rate         age  existing_credits  \\\n",
       "count       579.000000        708.000000  708.000000        708.000000   \n",
       "mean        789.058722          2.966102   35.877119          1.423729   \n",
       "std        2997.126937          1.116411   11.556534          0.595696   \n",
       "min           0.000000          1.000000   19.000000          1.000000   \n",
       "25%          32.000000          2.000000   27.000000          1.000000   \n",
       "50%          65.000000          3.000000   33.000000          1.000000   \n",
       "75%         205.000000          4.000000   42.000000          2.000000   \n",
       "max       19970.000000          4.000000   75.000000          4.000000   \n",
       "\n",
       "          default  dependents     telephone          Id  \n",
       "count  708.000000  708.000000  3.000000e+02  708.000000  \n",
       "mean     0.298023    1.153955  2.344898e+09  489.059322  \n",
       "std      0.457713    0.361161  3.043729e+06  288.583071  \n",
       "min      0.000000    1.000000  2.340000e+09    0.000000  \n",
       "25%      0.000000    1.000000  2.341990e+09  236.500000  \n",
       "50%      0.000000    1.000000  2.344832e+09  482.500000  \n",
       "75%      1.000000    1.000000  2.347731e+09  738.250000  \n",
       "max      1.000000    2.000000  2.349986e+09  998.000000  "
      ]
     },
     "execution_count": 9,
     "metadata": {},
     "output_type": "execute_result"
    }
   ],
   "source": [
    "train.describe()"
   ]
  },
  {
   "cell_type": "code",
   "execution_count": 10,
   "id": "326b0856",
   "metadata": {},
   "outputs": [
    {
     "name": "stdout",
     "output_type": "stream",
     "text": [
      "['Unnamed: 0' 'checking_balance' 'months_loan_duration' 'credit_history'\n",
      " 'purpose' 'amount' 'savings_balance' 'employment_length'\n",
      " 'installment_rate' 'personal_status' 'other_debtors' 'residence_history'\n",
      " 'property' 'age' 'installment_plan' 'housing' 'existing_credits'\n",
      " 'default' 'dependents' 'telephone' 'foreign_worker' 'job' 'gender' 'Id']\n"
     ]
    }
   ],
   "source": [
    "print(train.columns.values)"
   ]
  },
  {
   "cell_type": "code",
   "execution_count": 11,
   "id": "e0523928",
   "metadata": {},
   "outputs": [
    {
     "data": {
      "text/plain": [
       "Index(['Unnamed: 0', 'checking_balance', 'months_loan_duration',\n",
       "       'credit_history', 'purpose', 'amount', 'savings_balance',\n",
       "       'employment_length', 'installment_rate', 'personal_status',\n",
       "       'other_debtors', 'residence_history', 'property', 'age',\n",
       "       'installment_plan', 'housing', 'existing_credits', 'default',\n",
       "       'dependents', 'telephone', 'foreign_worker', 'job', 'gender', 'Id'],\n",
       "      dtype='object')"
      ]
     },
     "execution_count": 11,
     "metadata": {},
     "output_type": "execute_result"
    }
   ],
   "source": [
    "train.columns"
   ]
  },
  {
   "cell_type": "code",
   "execution_count": 12,
   "id": "5c5b2310",
   "metadata": {},
   "outputs": [
    {
     "data": {
      "text/plain": [
       "telephone               408\n",
       "checking_balance        281\n",
       "personal_status         210\n",
       "savings_balance         129\n",
       "residence_history        87\n",
       "employment_length        47\n",
       "Unnamed: 0                0\n",
       "housing                   0\n",
       "gender                    0\n",
       "job                       0\n",
       "foreign_worker            0\n",
       "dependents                0\n",
       "default                   0\n",
       "existing_credits          0\n",
       "property                  0\n",
       "installment_plan          0\n",
       "age                       0\n",
       "other_debtors             0\n",
       "installment_rate          0\n",
       "amount                    0\n",
       "purpose                   0\n",
       "credit_history            0\n",
       "months_loan_duration      0\n",
       "Id                        0\n",
       "dtype: int64"
      ]
     },
     "execution_count": 12,
     "metadata": {},
     "output_type": "execute_result"
    }
   ],
   "source": [
    "train.isnull().sum().sort_values(ascending = False)"
   ]
  },
  {
   "cell_type": "code",
   "execution_count": 13,
   "id": "8687ea3b",
   "metadata": {},
   "outputs": [
    {
     "name": "stdout",
     "output_type": "stream",
     "text": [
      "<class 'pandas.core.frame.DataFrame'>\n",
      "RangeIndex: 708 entries, 0 to 707\n",
      "Data columns (total 24 columns):\n",
      " #   Column                Non-Null Count  Dtype  \n",
      "---  ------                --------------  -----  \n",
      " 0   Unnamed: 0            708 non-null    int64  \n",
      " 1   checking_balance      427 non-null    float64\n",
      " 2   months_loan_duration  708 non-null    int64  \n",
      " 3   credit_history        708 non-null    object \n",
      " 4   purpose               708 non-null    object \n",
      " 5   amount                708 non-null    int64  \n",
      " 6   savings_balance       579 non-null    float64\n",
      " 7   employment_length     661 non-null    object \n",
      " 8   installment_rate      708 non-null    int64  \n",
      " 9   personal_status       498 non-null    object \n",
      " 10  other_debtors         708 non-null    object \n",
      " 11  residence_history     621 non-null    object \n",
      " 12  property              708 non-null    object \n",
      " 13  age                   708 non-null    int64  \n",
      " 14  installment_plan      708 non-null    object \n",
      " 15  housing               708 non-null    object \n",
      " 16  existing_credits      708 non-null    int64  \n",
      " 17  default               708 non-null    int64  \n",
      " 18  dependents            708 non-null    int64  \n",
      " 19  telephone             300 non-null    float64\n",
      " 20  foreign_worker        708 non-null    object \n",
      " 21  job                   708 non-null    object \n",
      " 22  gender                708 non-null    object \n",
      " 23  Id                    708 non-null    int64  \n",
      "dtypes: float64(3), int64(9), object(12)\n",
      "memory usage: 132.9+ KB\n",
      "________________________________________\n",
      "<class 'pandas.core.frame.DataFrame'>\n",
      "RangeIndex: 292 entries, 0 to 291\n",
      "Data columns (total 23 columns):\n",
      " #   Column                Non-Null Count  Dtype  \n",
      "---  ------                --------------  -----  \n",
      " 0   Unnamed: 0            292 non-null    int64  \n",
      " 1   checking_balance      179 non-null    float64\n",
      " 2   months_loan_duration  292 non-null    int64  \n",
      " 3   credit_history        292 non-null    object \n",
      " 4   purpose               292 non-null    object \n",
      " 5   amount                292 non-null    int64  \n",
      " 6   savings_balance       238 non-null    float64\n",
      " 7   employment_length     277 non-null    object \n",
      " 8   installment_rate      292 non-null    int64  \n",
      " 9   personal_status       192 non-null    object \n",
      " 10  other_debtors         292 non-null    object \n",
      " 11  residence_history     249 non-null    object \n",
      " 12  property              292 non-null    object \n",
      " 13  age                   292 non-null    int64  \n",
      " 14  installment_plan      292 non-null    object \n",
      " 15  housing               292 non-null    object \n",
      " 16  existing_credits      292 non-null    int64  \n",
      " 17  dependents            292 non-null    int64  \n",
      " 18  telephone             104 non-null    float64\n",
      " 19  foreign_worker        292 non-null    object \n",
      " 20  job                   292 non-null    object \n",
      " 21  gender                292 non-null    object \n",
      " 22  Id                    292 non-null    int64  \n",
      "dtypes: float64(3), int64(8), object(12)\n",
      "memory usage: 52.6+ KB\n"
     ]
    }
   ],
   "source": [
    "train.info()\n",
    "print('_'*40)\n",
    "test.info()"
   ]
  },
  {
   "cell_type": "code",
   "execution_count": 14,
   "id": "09975763",
   "metadata": {},
   "outputs": [
    {
     "data": {
      "text/plain": [
       "array(['13 years', '2 years', '5 years', '4 years', nan, '6 months',\n",
       "       '5 months', '3 years', '1 years', '17 years', '3 months',\n",
       "       '9 years', '4 months', '10 months', '11 years', '7 months',\n",
       "       '19 years', '7 years', '14 years', '1 months', '18 years',\n",
       "       '16 years', '15 years', '6 years', '8 years', '12 years',\n",
       "       '2 months', '0 months', '9 months', '10 years', '8 months',\n",
       "       '11 months'], dtype=object)"
      ]
     },
     "execution_count": 14,
     "metadata": {},
     "output_type": "execute_result"
    }
   ],
   "source": [
    "train['employment_length'].unique()"
   ]
  },
  {
   "cell_type": "code",
   "execution_count": 15,
   "id": "d159fbe4",
   "metadata": {},
   "outputs": [],
   "source": [
    "def emp_length_1(x):\n",
    "    x = str(x).split()\n",
    "    if x[0]== 'nan':\n",
    "        return 0\n",
    "    else:\n",
    "        if x[1] == 'years':\n",
    "            return int(x[0])*12\n",
    "        else: \n",
    "            return int(x[0])"
   ]
  },
  {
   "cell_type": "code",
   "execution_count": 16,
   "id": "4850890f",
   "metadata": {},
   "outputs": [],
   "source": [
    "train['emp_length_1'] = train['employment_length'].apply(emp_length_1)"
   ]
  },
  {
   "cell_type": "code",
   "execution_count": 17,
   "id": "101f25f6",
   "metadata": {},
   "outputs": [
    {
     "data": {
      "text/plain": [
       "0      156\n",
       "1       24\n",
       "2       60\n",
       "3       24\n",
       "4       24\n",
       "      ... \n",
       "703      0\n",
       "704    156\n",
       "705    204\n",
       "706    156\n",
       "707     24\n",
       "Name: emp_length_1, Length: 708, dtype: int64"
      ]
     },
     "execution_count": 17,
     "metadata": {},
     "output_type": "execute_result"
    }
   ],
   "source": [
    "train['emp_length_1']"
   ]
  },
  {
   "cell_type": "code",
   "execution_count": 18,
   "id": "8591d7fe",
   "metadata": {},
   "outputs": [
    {
     "data": {
      "text/plain": [
       "repaid                    373\n",
       "critical                  209\n",
       "delayed                    66\n",
       "fully repaid this bank     34\n",
       "fully repaid               26\n",
       "Name: credit_history, dtype: int64"
      ]
     },
     "execution_count": 18,
     "metadata": {},
     "output_type": "execute_result"
    }
   ],
   "source": [
    "train['credit_history'].value_counts()"
   ]
  },
  {
   "cell_type": "markdown",
   "id": "f5147c3a",
   "metadata": {},
   "source": [
    "#### Feature Engineering"
   ]
  },
  {
   "cell_type": "code",
   "execution_count": 19,
   "id": "1b9e42e5",
   "metadata": {},
   "outputs": [],
   "source": [
    "def merge_cred_hist(x):\n",
    "    if x == \"fully repaid this bank\" or x == \"fully repaid\":\n",
    "        return \"fully repaid\"\n",
    "    else:\n",
    "        return x"
   ]
  },
  {
   "cell_type": "code",
   "execution_count": 20,
   "id": "2d8f19c1",
   "metadata": {},
   "outputs": [],
   "source": [
    "train['credit_history_1'] = train['credit_history'].apply(merge_cred_hist)"
   ]
  },
  {
   "cell_type": "code",
   "execution_count": 21,
   "id": "5299305d",
   "metadata": {},
   "outputs": [
    {
     "data": {
      "text/plain": [
       "repaid          373\n",
       "critical        209\n",
       "delayed          66\n",
       "fully repaid     60\n",
       "Name: credit_history_1, dtype: int64"
      ]
     },
     "execution_count": 21,
     "metadata": {},
     "output_type": "execute_result"
    }
   ],
   "source": [
    "train['credit_history_1'].value_counts()"
   ]
  },
  {
   "cell_type": "code",
   "execution_count": 22,
   "id": "531f14f2",
   "metadata": {},
   "outputs": [
    {
     "data": {
      "text/html": [
       "<div>\n",
       "<style scoped>\n",
       "    .dataframe tbody tr th:only-of-type {\n",
       "        vertical-align: middle;\n",
       "    }\n",
       "\n",
       "    .dataframe tbody tr th {\n",
       "        vertical-align: top;\n",
       "    }\n",
       "\n",
       "    .dataframe thead th {\n",
       "        text-align: right;\n",
       "    }\n",
       "</style>\n",
       "<table border=\"1\" class=\"dataframe\">\n",
       "  <thead>\n",
       "    <tr style=\"text-align: right;\">\n",
       "      <th></th>\n",
       "      <th>credit_history_1</th>\n",
       "      <th>default</th>\n",
       "    </tr>\n",
       "  </thead>\n",
       "  <tbody>\n",
       "    <tr>\n",
       "      <th>2</th>\n",
       "      <td>fully repaid</td>\n",
       "      <td>0.616667</td>\n",
       "    </tr>\n",
       "    <tr>\n",
       "      <th>1</th>\n",
       "      <td>delayed</td>\n",
       "      <td>0.333333</td>\n",
       "    </tr>\n",
       "    <tr>\n",
       "      <th>3</th>\n",
       "      <td>repaid</td>\n",
       "      <td>0.313673</td>\n",
       "    </tr>\n",
       "    <tr>\n",
       "      <th>0</th>\n",
       "      <td>critical</td>\n",
       "      <td>0.167464</td>\n",
       "    </tr>\n",
       "  </tbody>\n",
       "</table>\n",
       "</div>"
      ],
      "text/plain": [
       "  credit_history_1   default\n",
       "2     fully repaid  0.616667\n",
       "1          delayed  0.333333\n",
       "3           repaid  0.313673\n",
       "0         critical  0.167464"
      ]
     },
     "execution_count": 22,
     "metadata": {},
     "output_type": "execute_result"
    }
   ],
   "source": [
    "train[['credit_history_1', 'default']].groupby(['credit_history_1'], as_index = False).mean().sort_values(by = 'default', \n",
    "                                                                                                          ascending = False)"
   ]
  },
  {
   "cell_type": "code",
   "execution_count": 23,
   "id": "43f0c4f8",
   "metadata": {},
   "outputs": [
    {
     "data": {
      "text/plain": [
       "radio/tv               199\n",
       "car (new)              177\n",
       "furniture              114\n",
       "business                75\n",
       "car (used)              72\n",
       "education               37\n",
       "repairs                 16\n",
       "domestic appliances      8\n",
       "others                   7\n",
       "retraining               3\n",
       "Name: purpose, dtype: int64"
      ]
     },
     "execution_count": 23,
     "metadata": {},
     "output_type": "execute_result"
    }
   ],
   "source": [
    "train['purpose'].value_counts()"
   ]
  },
  {
   "cell_type": "code",
   "execution_count": 24,
   "id": "37d5e57e",
   "metadata": {},
   "outputs": [],
   "source": [
    "def merge_purpose(x):\n",
    "    if x == \"repairs\" or x == \"domestic appliances\" or x == \"others\" or x == \"retraining\":\n",
    "        return \"others\"\n",
    "    else:\n",
    "        return x"
   ]
  },
  {
   "cell_type": "code",
   "execution_count": 25,
   "id": "952431ee",
   "metadata": {},
   "outputs": [],
   "source": [
    "train['purpose_1'] = train['purpose'].apply(merge_purpose)"
   ]
  },
  {
   "cell_type": "code",
   "execution_count": 26,
   "id": "fb53d08a",
   "metadata": {},
   "outputs": [
    {
     "data": {
      "text/plain": [
       "radio/tv      199\n",
       "car (new)     177\n",
       "furniture     114\n",
       "business       75\n",
       "car (used)     72\n",
       "education      37\n",
       "others         34\n",
       "Name: purpose_1, dtype: int64"
      ]
     },
     "execution_count": 26,
     "metadata": {},
     "output_type": "execute_result"
    }
   ],
   "source": [
    "train['purpose_1'].value_counts()"
   ]
  },
  {
   "cell_type": "code",
   "execution_count": 27,
   "id": "cd6f4d25",
   "metadata": {},
   "outputs": [
    {
     "data": {
      "text/plain": [
       "2 years      31\n",
       "8 months     28\n",
       "0 months     27\n",
       "1 years      25\n",
       "3 years      24\n",
       "4 years      23\n",
       "1 months     20\n",
       "13 years     19\n",
       "9 months     19\n",
       "18 years     18\n",
       "15 years     18\n",
       "2 months     18\n",
       "11 months    18\n",
       "3 months     18\n",
       "8 years      18\n",
       "10 years     18\n",
       "11 years     17\n",
       "14 years     16\n",
       "16 years     16\n",
       "4 months     15\n",
       "23 years     15\n",
       "22 years     15\n",
       "5 months     15\n",
       "7 months     14\n",
       "5 years      14\n",
       "24 years     14\n",
       "10 months    14\n",
       "6 months     14\n",
       "17 years     13\n",
       "20 years     13\n",
       "7 years      13\n",
       "12 years     13\n",
       "6 years      12\n",
       "21 years     12\n",
       "19 years     12\n",
       "9 years      12\n",
       "Name: residence_history, dtype: int64"
      ]
     },
     "execution_count": 27,
     "metadata": {},
     "output_type": "execute_result"
    }
   ],
   "source": [
    "train['residence_history'].value_counts()"
   ]
  },
  {
   "cell_type": "code",
   "execution_count": 28,
   "id": "27b14875",
   "metadata": {},
   "outputs": [
    {
     "data": {
      "text/plain": [
       "array(['6 years', '5 months', '13 years', '8 years', '3 months',\n",
       "       '24 years', '10 months', nan, '10 years', nan, '19 years',\n",
       "       '0 months', '7 years', '3 years', '7 months', '3 years', '1 years',\n",
       "       '16 years', nan, '3 months', '1 years', '6 months', '2 years',\n",
       "       '3 months', '20 years', '6 months', '2 years', '11 months',\n",
       "       '8 months', nan, '14 years', '16 years', '21 years', '5 years',\n",
       "       '8 years', '6 months', '8 years', '0 months', '9 months',\n",
       "       '2 months', '10 months', nan, '24 years', '9 months', nan,\n",
       "       '8 months', '7 months', '15 years', nan, '11 years', '5 years',\n",
       "       '0 months', '18 years', '19 years', '8 months', nan, '22 years',\n",
       "       '13 years', '3 months', '6 months', '23 years', '20 years',\n",
       "       '3 years', nan, '3 years', '18 years', '13 years', '0 months',\n",
       "       '2 years', '1 years', '13 years', '2 years', '20 years',\n",
       "       '20 years', '2 months', '10 years', '20 years', '23 years',\n",
       "       '23 years', '4 months', '3 years', '5 years', '24 years',\n",
       "       '8 months', '11 months', '5 months', nan, nan, '2 years',\n",
       "       '12 years', '4 years', '9 months', '9 months', '18 years',\n",
       "       '2 years', '3 months', '8 months', '6 months', '1 months',\n",
       "       '2 months', '2 years', '14 years', '11 years', '6 months',\n",
       "       '1 months', '2 years', '5 months', nan, '8 months', '4 months',\n",
       "       '21 years', '0 months', '18 years', '11 years', '17 years',\n",
       "       '22 years', '7 years', '20 years', '24 years', '18 years', nan,\n",
       "       '2 years', '24 years', '8 months', nan, '16 years', '15 years',\n",
       "       '4 years', nan, '11 months', '3 months', nan, nan, '14 years',\n",
       "       '2 months', '10 years', nan, '10 months', '3 months', '10 years',\n",
       "       '2 months', '2 years', nan, '3 years', '10 years', '8 months',\n",
       "       '0 months', '11 years', '2 years', nan, '11 years', '11 years',\n",
       "       '1 years', '2 years', '13 years', nan, '5 years', '2 months',\n",
       "       '7 months', '9 years', '18 years', '1 years', nan, '10 months',\n",
       "       '6 years', '14 years', '1 months', '16 years', '4 months',\n",
       "       '4 months', '21 years', '11 months', '0 months', '23 years', nan,\n",
       "       nan, '10 months', '6 months', '0 months', '1 years', '11 months',\n",
       "       '8 months', '2 months', nan, '9 years', nan, '10 years', '8 years',\n",
       "       '0 months', '4 years', nan, nan, '4 months', nan, '10 years',\n",
       "       '15 years', '1 months', '18 years', '8 years', '10 years',\n",
       "       '2 years', '20 years', '18 years', '10 years', '17 years',\n",
       "       '7 months', '10 years', '12 years', '13 years', '5 months',\n",
       "       '4 years', '14 years', '4 months', '13 years', '9 months',\n",
       "       '0 months', '8 months', '4 months', '15 years', nan, '7 months',\n",
       "       '8 months', '5 months', '1 years', '6 years', '16 years',\n",
       "       '4 years', '9 months', '1 years', '12 years', '9 months',\n",
       "       '24 years', '5 months', nan, '3 years', '16 years', '3 years',\n",
       "       '7 months', '22 years', '23 years', '18 years', '9 months',\n",
       "       '5 years', '9 years', '7 years', nan, nan, '9 months', '23 years',\n",
       "       '16 years', '2 months', '2 years', '11 years', '0 months',\n",
       "       '10 years', '0 months', '15 years', '8 months', '22 years',\n",
       "       '0 months', '20 years', '2 years', '6 months', '8 months', nan,\n",
       "       '15 years', nan, '8 years', '24 years', '15 years', '1 years',\n",
       "       '5 years', '6 years', '20 years', '2 years', '15 years',\n",
       "       '11 years', '12 years', '20 years', '11 months', nan, '8 months',\n",
       "       '10 years', '9 years', '8 months', '8 months', '7 years',\n",
       "       '13 years', '22 years', '4 years', '4 years', '1 months', nan,\n",
       "       '21 years', '12 years', '2 months', '19 years', '4 months',\n",
       "       '1 months', '14 years', '9 months', '2 months', '7 months', nan,\n",
       "       '1 months', '2 months', '5 months', '4 months', '2 years',\n",
       "       '1 years', '1 years', '2 years', '13 years', '14 years', '2 years',\n",
       "       '13 years', '7 months', '0 months', nan, '8 years', '5 years',\n",
       "       '20 years', nan, '18 years', '2 years', '10 years', '16 years',\n",
       "       '24 years', '1 months', '12 years', '1 years', '3 months',\n",
       "       '15 years', '2 years', nan, '11 months', '0 months', '9 months',\n",
       "       '19 years', nan, '6 years', '10 months', '1 years', '4 years',\n",
       "       '22 years', '15 years', '1 months', '16 years', '8 months',\n",
       "       '12 years', '18 years', nan, nan, '6 years', '2 months', '9 years',\n",
       "       '12 years', '5 years', '1 months', '4 years', '7 months',\n",
       "       '11 years', '2 months', '9 years', nan, '10 years', '19 years',\n",
       "       '16 years', '7 years', '9 months', '7 months', '7 months',\n",
       "       '3 months', '11 months', nan, '13 years', '15 years', '10 months',\n",
       "       '14 years', '0 months', '14 years', '2 years', '3 years', nan,\n",
       "       '11 years', nan, '3 years', '1 months', nan, '3 years', '17 years',\n",
       "       '8 years', nan, '8 years', '21 years', nan, '14 years',\n",
       "       '11 months', '8 years', '9 years', nan, nan, '1 years', '8 years',\n",
       "       '24 years', '24 years', nan, '5 years', '10 months', '1 months',\n",
       "       '0 months', '9 years', '6 years', '16 years', '4 years', nan,\n",
       "       '8 months', '4 years', '3 years', '6 months', nan, '24 years',\n",
       "       '9 years', '5 months', nan, '3 years', '3 years', '19 years',\n",
       "       '12 years', '20 years', '4 years', nan, '7 years', '8 months', nan,\n",
       "       '23 years', '5 months', '5 months', '5 years', '2 years',\n",
       "       '1 months', '13 years', nan, '9 months', '1 months', '17 years',\n",
       "       '0 months', '2 years', '0 months', nan, '23 years', '1 months',\n",
       "       '9 months', '4 years', '13 years', '3 years', '3 months',\n",
       "       '11 years', nan, '18 years', '2 years', '7 years', '9 months',\n",
       "       '10 months', '18 years', '8 months', '4 years', '18 years', nan,\n",
       "       '6 months', nan, '12 years', '2 years', '23 years', '5 years', nan,\n",
       "       '14 years', '3 months', '11 months', nan, '7 years', nan,\n",
       "       '19 years', '8 months', '1 months', '16 years', '22 years',\n",
       "       '0 months', '23 years', '11 months', '13 years', '1 years',\n",
       "       '2 years', '3 years', '8 years', '6 months', '1 years', '21 years',\n",
       "       '4 years', '9 months', nan, '3 years', '11 months', '10 months',\n",
       "       '2 months', '8 years', '17 years', '19 years', '11 months',\n",
       "       '8 months', nan, '8 years', '5 months', '22 years', '12 years',\n",
       "       '11 years', '3 months', '7 months', '17 years', '0 months',\n",
       "       '1 years', '4 years', '4 months', '4 months', '1 years',\n",
       "       '14 years', '7 months', '15 years', nan, '18 years', '4 years',\n",
       "       '19 years', '4 years', '7 years', '6 years', '16 years', nan,\n",
       "       '15 years', '4 years', '2 months', '8 years', nan, '6 years',\n",
       "       '1 months', '4 years', '9 years', '4 years', '23 years',\n",
       "       '22 years', '9 years', '18 years', nan, '8 months', '10 years',\n",
       "       '0 months', '24 years', '3 months', '12 years', '11 months',\n",
       "       '14 years', '22 years', '2 years', '13 years', '10 years',\n",
       "       '1 years', '18 years', '21 years', '17 years', '24 years',\n",
       "       '3 months', '7 years', '11 years', '21 years', '21 years',\n",
       "       '10 months', nan, '1 years', '10 years', '9 months', nan,\n",
       "       '0 months', '15 years', '16 years', '5 years', '15 years',\n",
       "       '3 years', '2 months', nan, '10 months', '14 years', '8 months',\n",
       "       '1 years', '23 years', '12 years', '1 years', '23 years',\n",
       "       '4 years', '11 years', '3 months', '2 years', '6 years', '1 years',\n",
       "       '4 months', '11 years', '20 years', '2 years', '15 years',\n",
       "       '11 months', '19 years', '13 years', '7 months', '6 years',\n",
       "       '17 years', '3 years', '0 months', '6 months', '19 years',\n",
       "       '9 months', '2 months', nan, '11 years', '8 months', '13 years',\n",
       "       '8 years', nan, nan, '1 months', '5 years', '22 years', '3 months',\n",
       "       '11 months', '17 years', '17 years', '13 years', '3 years',\n",
       "       '7 years', '3 years', '15 years', '14 years', '17 years',\n",
       "       '10 years', '6 years', '2 years', '11 months', '22 years',\n",
       "       '13 years', '7 years', '11 months', '6 months', '5 months',\n",
       "       '8 months', '23 years', '22 years', '8 months', '4 months',\n",
       "       '5 months', '22 years', nan, '4 months', '16 years', nan,\n",
       "       '3 months', '9 years', '14 years', '9 months', nan, '8 months',\n",
       "       nan, '23 years', '3 years', '3 years', '5 years', '17 years',\n",
       "       '1 years', nan, '21 years', '3 years', nan, '11 years', '21 years',\n",
       "       '15 years', '19 years', '0 months', '17 years', '5 months',\n",
       "       '22 years', '0 months', '5 months', '0 months', '10 months',\n",
       "       '7 years', '1 months', '2 months', '24 years', '21 years',\n",
       "       '8 years', '3 months', '4 years', '18 years', '1 months',\n",
       "       '6 months', nan, nan, '10 months', '4 months', '1 years',\n",
       "       '16 years', '8 years'], dtype=object)"
      ]
     },
     "execution_count": 28,
     "metadata": {},
     "output_type": "execute_result"
    }
   ],
   "source": [
    "train['residence_history'].values"
   ]
  },
  {
   "cell_type": "code",
   "execution_count": 29,
   "id": "cc57deec",
   "metadata": {},
   "outputs": [],
   "source": [
    "def res_hist_1(x):\n",
    "    x = str(x).split()\n",
    "    if x[0]== 'nan':\n",
    "        return 0\n",
    "    else:\n",
    "        if x[1] == 'years':\n",
    "            return int(x[0])*12\n",
    "        else: \n",
    "            return int(x[0])"
   ]
  },
  {
   "cell_type": "code",
   "execution_count": 30,
   "id": "940f47de",
   "metadata": {},
   "outputs": [],
   "source": [
    "train['residence_history_1'] = train['residence_history'].apply(res_hist_1)"
   ]
  },
  {
   "cell_type": "code",
   "execution_count": 31,
   "id": "ac87f839",
   "metadata": {},
   "outputs": [
    {
     "data": {
      "text/plain": [
       "array([ 72,   5, 156,  96,   3, 288,  10,   0, 120,   0, 228,   0,  84,\n",
       "        36,   7,  36,  12, 192,   0,   3,  12,   6,  24,   3, 240,   6,\n",
       "        24,  11,   8,   0, 168, 192, 252,  60,  96,   6,  96,   0,   9,\n",
       "         2,  10,   0, 288,   9,   0,   8,   7, 180,   0, 132,  60,   0,\n",
       "       216, 228,   8,   0, 264, 156,   3,   6, 276, 240,  36,   0,  36,\n",
       "       216, 156,   0,  24,  12, 156,  24, 240, 240,   2, 120, 240, 276,\n",
       "       276,   4,  36,  60, 288,   8,  11,   5,   0,   0,  24, 144,  48,\n",
       "         9,   9, 216,  24,   3,   8,   6,   1,   2,  24, 168, 132,   6,\n",
       "         1,  24,   5,   0,   8,   4, 252,   0, 216, 132, 204, 264,  84,\n",
       "       240, 288, 216,   0,  24, 288,   8,   0, 192, 180,  48,   0,  11,\n",
       "         3,   0,   0, 168,   2, 120,   0,  10,   3, 120,   2,  24,   0,\n",
       "        36, 120,   8,   0, 132,  24,   0, 132, 132,  12,  24, 156,   0,\n",
       "        60,   2,   7, 108, 216,  12,   0,  10,  72, 168,   1, 192,   4,\n",
       "         4, 252,  11,   0, 276,   0,   0,  10,   6,   0,  12,  11,   8,\n",
       "         2,   0, 108,   0, 120,  96,   0,  48,   0,   0,   4,   0, 120,\n",
       "       180,   1, 216,  96, 120,  24, 240, 216, 120, 204,   7, 120, 144,\n",
       "       156,   5,  48, 168,   4, 156,   9,   0,   8,   4, 180,   0,   7,\n",
       "         8,   5,  12,  72, 192,  48,   9,  12, 144,   9, 288,   5,   0,\n",
       "        36, 192,  36,   7, 264, 276, 216,   9,  60, 108,  84,   0,   0,\n",
       "         9, 276, 192,   2,  24, 132,   0, 120,   0, 180,   8, 264,   0,\n",
       "       240,  24,   6,   8,   0, 180,   0,  96, 288, 180,  12,  60,  72,\n",
       "       240,  24, 180, 132, 144, 240,  11,   0,   8, 120, 108,   8,   8,\n",
       "        84, 156, 264,  48,  48,   1,   0, 252, 144,   2, 228,   4,   1,\n",
       "       168,   9,   2,   7,   0,   1,   2,   5,   4,  24,  12,  12,  24,\n",
       "       156, 168,  24, 156,   7,   0,   0,  96,  60, 240,   0, 216,  24,\n",
       "       120, 192, 288,   1, 144,  12,   3, 180,  24,   0,  11,   0,   9,\n",
       "       228,   0,  72,  10,  12,  48, 264, 180,   1, 192,   8, 144, 216,\n",
       "         0,   0,  72,   2, 108, 144,  60,   1,  48,   7, 132,   2, 108,\n",
       "         0, 120, 228, 192,  84,   9,   7,   7,   3,  11,   0, 156, 180,\n",
       "        10, 168,   0, 168,  24,  36,   0, 132,   0,  36,   1,   0,  36,\n",
       "       204,  96,   0,  96, 252,   0, 168,  11,  96, 108,   0,   0,  12,\n",
       "        96, 288, 288,   0,  60,  10,   1,   0, 108,  72, 192,  48,   0,\n",
       "         8,  48,  36,   6,   0, 288, 108,   5,   0,  36,  36, 228, 144,\n",
       "       240,  48,   0,  84,   8,   0, 276,   5,   5,  60,  24,   1, 156,\n",
       "         0,   9,   1, 204,   0,  24,   0,   0, 276,   1,   9,  48, 156,\n",
       "        36,   3, 132,   0, 216,  24,  84,   9,  10, 216,   8,  48, 216,\n",
       "         0,   6,   0, 144,  24, 276,  60,   0, 168,   3,  11,   0,  84,\n",
       "         0, 228,   8,   1, 192, 264,   0, 276,  11, 156,  12,  24,  36,\n",
       "        96,   6,  12, 252,  48,   9,   0,  36,  11,  10,   2,  96, 204,\n",
       "       228,  11,   8,   0,  96,   5, 264, 144, 132,   3,   7, 204,   0,\n",
       "        12,  48,   4,   4,  12, 168,   7, 180,   0, 216,  48, 228,  48,\n",
       "        84,  72, 192,   0, 180,  48,   2,  96,   0,  72,   1,  48, 108,\n",
       "        48, 276, 264, 108, 216,   0,   8, 120,   0, 288,   3, 144,  11,\n",
       "       168, 264,  24, 156, 120,  12, 216, 252, 204, 288,   3,  84, 132,\n",
       "       252, 252,  10,   0,  12, 120,   9,   0,   0, 180, 192,  60, 180,\n",
       "        36,   2,   0,  10, 168,   8,  12, 276, 144,  12, 276,  48, 132,\n",
       "         3,  24,  72,  12,   4, 132, 240,  24, 180,  11, 228, 156,   7,\n",
       "        72, 204,  36,   0,   6, 228,   9,   2,   0, 132,   8, 156,  96,\n",
       "         0,   0,   1,  60, 264,   3,  11, 204, 204, 156,  36,  84,  36,\n",
       "       180, 168, 204, 120,  72,  24,  11, 264, 156,  84,  11,   6,   5,\n",
       "         8, 276, 264,   8,   4,   5, 264,   0,   4, 192,   0,   3, 108,\n",
       "       168,   9,   0,   8,   0, 276,  36,  36,  60, 204,  12,   0, 252,\n",
       "        36,   0, 132, 252, 180, 228,   0, 204,   5, 264,   0,   5,   0,\n",
       "        10,  84,   1,   2, 288, 252,  96,   3,  48, 216,   1,   6,   0,\n",
       "         0,  10,   4,  12, 192,  96])"
      ]
     },
     "execution_count": 31,
     "metadata": {},
     "output_type": "execute_result"
    }
   ],
   "source": [
    "train['residence_history_1'].values"
   ]
  },
  {
   "cell_type": "code",
   "execution_count": 32,
   "id": "1cba380a",
   "metadata": {},
   "outputs": [
    {
     "data": {
      "text/plain": [
       "0      114\n",
       "24      31\n",
       "8       28\n",
       "12      25\n",
       "36      24\n",
       "48      23\n",
       "1       20\n",
       "156     19\n",
       "9       19\n",
       "216     18\n",
       "180     18\n",
       "2       18\n",
       "11      18\n",
       "3       18\n",
       "96      18\n",
       "120     18\n",
       "132     17\n",
       "168     16\n",
       "192     16\n",
       "4       15\n",
       "276     15\n",
       "264     15\n",
       "5       15\n",
       "7       14\n",
       "60      14\n",
       "288     14\n",
       "10      14\n",
       "6       14\n",
       "204     13\n",
       "240     13\n",
       "84      13\n",
       "144     13\n",
       "72      12\n",
       "252     12\n",
       "228     12\n",
       "108     12\n",
       "Name: residence_history_1, dtype: int64"
      ]
     },
     "execution_count": 32,
     "metadata": {},
     "output_type": "execute_result"
    }
   ],
   "source": [
    "train['residence_history_1'].value_counts()"
   ]
  },
  {
   "cell_type": "code",
   "execution_count": 33,
   "id": "5391f550",
   "metadata": {},
   "outputs": [
    {
     "data": {
      "text/plain": [
       "Index(['Unnamed: 0', 'checking_balance', 'months_loan_duration',\n",
       "       'credit_history', 'purpose', 'amount', 'savings_balance',\n",
       "       'employment_length', 'installment_rate', 'personal_status',\n",
       "       'other_debtors', 'residence_history', 'property', 'age',\n",
       "       'installment_plan', 'housing', 'existing_credits', 'default',\n",
       "       'dependents', 'telephone', 'foreign_worker', 'job', 'gender', 'Id',\n",
       "       'emp_length_1', 'credit_history_1', 'purpose_1', 'residence_history_1'],\n",
       "      dtype='object')"
      ]
     },
     "execution_count": 33,
     "metadata": {},
     "output_type": "execute_result"
    }
   ],
   "source": [
    "train.columns"
   ]
  },
  {
   "cell_type": "code",
   "execution_count": 34,
   "id": "1e0dcbe6",
   "metadata": {},
   "outputs": [
    {
     "data": {
      "text/plain": [
       "408"
      ]
     },
     "execution_count": 34,
     "metadata": {},
     "output_type": "execute_result"
    }
   ],
   "source": [
    "train['telephone'].isnull().sum()"
   ]
  },
  {
   "cell_type": "code",
   "execution_count": 35,
   "id": "88f8e6fc",
   "metadata": {},
   "outputs": [],
   "source": [
    "def engr_tel (x): \n",
    "    if x > 0:\n",
    "        return 0\n",
    "    else:\n",
    "        return 1"
   ]
  },
  {
   "cell_type": "code",
   "execution_count": 36,
   "id": "1a4999ee",
   "metadata": {},
   "outputs": [],
   "source": [
    "train['tel_1'] = train['telephone'].apply(engr_tel)"
   ]
  },
  {
   "cell_type": "code",
   "execution_count": 37,
   "id": "90592fdd",
   "metadata": {},
   "outputs": [
    {
     "data": {
      "text/html": [
       "<div>\n",
       "<style scoped>\n",
       "    .dataframe tbody tr th:only-of-type {\n",
       "        vertical-align: middle;\n",
       "    }\n",
       "\n",
       "    .dataframe tbody tr th {\n",
       "        vertical-align: top;\n",
       "    }\n",
       "\n",
       "    .dataframe thead th {\n",
       "        text-align: right;\n",
       "    }\n",
       "</style>\n",
       "<table border=\"1\" class=\"dataframe\">\n",
       "  <thead>\n",
       "    <tr style=\"text-align: right;\">\n",
       "      <th></th>\n",
       "      <th>tel_1</th>\n",
       "      <th>telephone</th>\n",
       "    </tr>\n",
       "  </thead>\n",
       "  <tbody>\n",
       "    <tr>\n",
       "      <th>0</th>\n",
       "      <td>0</td>\n",
       "      <td>2.349340e+09</td>\n",
       "    </tr>\n",
       "    <tr>\n",
       "      <th>1</th>\n",
       "      <td>1</td>\n",
       "      <td>NaN</td>\n",
       "    </tr>\n",
       "    <tr>\n",
       "      <th>2</th>\n",
       "      <td>1</td>\n",
       "      <td>NaN</td>\n",
       "    </tr>\n",
       "    <tr>\n",
       "      <th>3</th>\n",
       "      <td>0</td>\n",
       "      <td>2.345788e+09</td>\n",
       "    </tr>\n",
       "    <tr>\n",
       "      <th>4</th>\n",
       "      <td>0</td>\n",
       "      <td>2.349962e+09</td>\n",
       "    </tr>\n",
       "    <tr>\n",
       "      <th>...</th>\n",
       "      <td>...</td>\n",
       "      <td>...</td>\n",
       "    </tr>\n",
       "    <tr>\n",
       "      <th>703</th>\n",
       "      <td>0</td>\n",
       "      <td>2.341421e+09</td>\n",
       "    </tr>\n",
       "    <tr>\n",
       "      <th>704</th>\n",
       "      <td>1</td>\n",
       "      <td>NaN</td>\n",
       "    </tr>\n",
       "    <tr>\n",
       "      <th>705</th>\n",
       "      <td>0</td>\n",
       "      <td>2.341832e+09</td>\n",
       "    </tr>\n",
       "    <tr>\n",
       "      <th>706</th>\n",
       "      <td>1</td>\n",
       "      <td>NaN</td>\n",
       "    </tr>\n",
       "    <tr>\n",
       "      <th>707</th>\n",
       "      <td>0</td>\n",
       "      <td>2.342257e+09</td>\n",
       "    </tr>\n",
       "  </tbody>\n",
       "</table>\n",
       "<p>708 rows × 2 columns</p>\n",
       "</div>"
      ],
      "text/plain": [
       "     tel_1     telephone\n",
       "0        0  2.349340e+09\n",
       "1        1           NaN\n",
       "2        1           NaN\n",
       "3        0  2.345788e+09\n",
       "4        0  2.349962e+09\n",
       "..     ...           ...\n",
       "703      0  2.341421e+09\n",
       "704      1           NaN\n",
       "705      0  2.341832e+09\n",
       "706      1           NaN\n",
       "707      0  2.342257e+09\n",
       "\n",
       "[708 rows x 2 columns]"
      ]
     },
     "execution_count": 37,
     "metadata": {},
     "output_type": "execute_result"
    }
   ],
   "source": [
    "train[['tel_1','telephone']]"
   ]
  },
  {
   "cell_type": "code",
   "execution_count": 38,
   "id": "d70291d3",
   "metadata": {},
   "outputs": [],
   "source": [
    "train.drop(['Unnamed: 0', 'credit_history', 'purpose', \n",
    "       'employment_length', 'residence_history', 'telephone', 'Id'], axis = 1, inplace = True)"
   ]
  },
  {
   "cell_type": "code",
   "execution_count": 39,
   "id": "6aa42e2f",
   "metadata": {},
   "outputs": [
    {
     "data": {
      "text/plain": [
       "Index(['checking_balance', 'months_loan_duration', 'amount', 'savings_balance',\n",
       "       'installment_rate', 'personal_status', 'other_debtors', 'property',\n",
       "       'age', 'installment_plan', 'housing', 'existing_credits', 'default',\n",
       "       'dependents', 'foreign_worker', 'job', 'gender', 'emp_length_1',\n",
       "       'credit_history_1', 'purpose_1', 'residence_history_1', 'tel_1'],\n",
       "      dtype='object')"
      ]
     },
     "execution_count": 39,
     "metadata": {},
     "output_type": "execute_result"
    }
   ],
   "source": [
    "train.columns"
   ]
  },
  {
   "cell_type": "code",
   "execution_count": 40,
   "id": "2185a543",
   "metadata": {},
   "outputs": [
    {
     "data": {
      "text/plain": [
       "checking_balance        281\n",
       "months_loan_duration      0\n",
       "amount                    0\n",
       "savings_balance         129\n",
       "installment_rate          0\n",
       "personal_status         210\n",
       "other_debtors             0\n",
       "property                  0\n",
       "age                       0\n",
       "installment_plan          0\n",
       "housing                   0\n",
       "existing_credits          0\n",
       "default                   0\n",
       "dependents                0\n",
       "foreign_worker            0\n",
       "job                       0\n",
       "gender                    0\n",
       "emp_length_1              0\n",
       "credit_history_1          0\n",
       "purpose_1                 0\n",
       "residence_history_1       0\n",
       "tel_1                     0\n",
       "dtype: int64"
      ]
     },
     "execution_count": 40,
     "metadata": {},
     "output_type": "execute_result"
    }
   ],
   "source": [
    "train.isnull().sum()"
   ]
  },
  {
   "cell_type": "code",
   "execution_count": 41,
   "id": "a6906bb4",
   "metadata": {},
   "outputs": [
    {
     "data": {
      "text/plain": [
       "count    427.000000\n",
       "mean     103.133489\n",
       "std      220.425812\n",
       "min      -50.000000\n",
       "25%      -21.000000\n",
       "50%       26.000000\n",
       "75%      130.500000\n",
       "max      999.000000\n",
       "Name: checking_balance, dtype: float64"
      ]
     },
     "execution_count": 41,
     "metadata": {},
     "output_type": "execute_result"
    }
   ],
   "source": [
    "train['checking_balance'].describe()"
   ]
  },
  {
   "cell_type": "code",
   "execution_count": 42,
   "id": "f2e1bbd6",
   "metadata": {},
   "outputs": [
    {
     "data": {
      "text/plain": [
       "(708, 22)"
      ]
     },
     "execution_count": 42,
     "metadata": {},
     "output_type": "execute_result"
    }
   ],
   "source": [
    "train.shape"
   ]
  },
  {
   "cell_type": "code",
   "execution_count": 43,
   "id": "5c975ce8",
   "metadata": {},
   "outputs": [],
   "source": [
    "train['checking_balance'].fillna(-9999, inplace = True)"
   ]
  },
  {
   "cell_type": "code",
   "execution_count": 44,
   "id": "72628fe9",
   "metadata": {},
   "outputs": [
    {
     "data": {
      "text/html": [
       "<div>\n",
       "<style scoped>\n",
       "    .dataframe tbody tr th:only-of-type {\n",
       "        vertical-align: middle;\n",
       "    }\n",
       "\n",
       "    .dataframe tbody tr th {\n",
       "        vertical-align: top;\n",
       "    }\n",
       "\n",
       "    .dataframe thead th {\n",
       "        text-align: right;\n",
       "    }\n",
       "</style>\n",
       "<table border=\"1\" class=\"dataframe\">\n",
       "  <thead>\n",
       "    <tr style=\"text-align: right;\">\n",
       "      <th></th>\n",
       "      <th>checking_balance</th>\n",
       "      <th>months_loan_duration</th>\n",
       "      <th>amount</th>\n",
       "      <th>savings_balance</th>\n",
       "      <th>installment_rate</th>\n",
       "      <th>personal_status</th>\n",
       "      <th>other_debtors</th>\n",
       "      <th>property</th>\n",
       "      <th>age</th>\n",
       "      <th>installment_plan</th>\n",
       "      <th>...</th>\n",
       "      <th>default</th>\n",
       "      <th>dependents</th>\n",
       "      <th>foreign_worker</th>\n",
       "      <th>job</th>\n",
       "      <th>gender</th>\n",
       "      <th>emp_length_1</th>\n",
       "      <th>credit_history_1</th>\n",
       "      <th>purpose_1</th>\n",
       "      <th>residence_history_1</th>\n",
       "      <th>tel_1</th>\n",
       "    </tr>\n",
       "  </thead>\n",
       "  <tbody>\n",
       "    <tr>\n",
       "      <th>248</th>\n",
       "      <td>199.0</td>\n",
       "      <td>13</td>\n",
       "      <td>882</td>\n",
       "      <td>0.0</td>\n",
       "      <td>4</td>\n",
       "      <td>single</td>\n",
       "      <td>guarantor</td>\n",
       "      <td>real estate</td>\n",
       "      <td>23</td>\n",
       "      <td>none</td>\n",
       "      <td>...</td>\n",
       "      <td>0</td>\n",
       "      <td>1</td>\n",
       "      <td>yes</td>\n",
       "      <td>skilled employee</td>\n",
       "      <td>male</td>\n",
       "      <td>1</td>\n",
       "      <td>critical</td>\n",
       "      <td>radio/tv</td>\n",
       "      <td>276</td>\n",
       "      <td>1</td>\n",
       "    </tr>\n",
       "    <tr>\n",
       "      <th>266</th>\n",
       "      <td>-9999.0</td>\n",
       "      <td>18</td>\n",
       "      <td>3850</td>\n",
       "      <td>0.0</td>\n",
       "      <td>3</td>\n",
       "      <td>single</td>\n",
       "      <td>none</td>\n",
       "      <td>other</td>\n",
       "      <td>27</td>\n",
       "      <td>none</td>\n",
       "      <td>...</td>\n",
       "      <td>0</td>\n",
       "      <td>1</td>\n",
       "      <td>yes</td>\n",
       "      <td>skilled employee</td>\n",
       "      <td>male</td>\n",
       "      <td>60</td>\n",
       "      <td>critical</td>\n",
       "      <td>car (used)</td>\n",
       "      <td>0</td>\n",
       "      <td>1</td>\n",
       "    </tr>\n",
       "    <tr>\n",
       "      <th>422</th>\n",
       "      <td>-41.0</td>\n",
       "      <td>18</td>\n",
       "      <td>2039</td>\n",
       "      <td>0.0</td>\n",
       "      <td>1</td>\n",
       "      <td>NaN</td>\n",
       "      <td>none</td>\n",
       "      <td>real estate</td>\n",
       "      <td>20</td>\n",
       "      <td>bank</td>\n",
       "      <td>...</td>\n",
       "      <td>1</td>\n",
       "      <td>1</td>\n",
       "      <td>yes</td>\n",
       "      <td>skilled employee</td>\n",
       "      <td>female</td>\n",
       "      <td>36</td>\n",
       "      <td>repaid</td>\n",
       "      <td>furniture</td>\n",
       "      <td>108</td>\n",
       "      <td>1</td>\n",
       "    </tr>\n",
       "    <tr>\n",
       "      <th>436</th>\n",
       "      <td>-9999.0</td>\n",
       "      <td>36</td>\n",
       "      <td>3349</td>\n",
       "      <td>0.0</td>\n",
       "      <td>4</td>\n",
       "      <td>NaN</td>\n",
       "      <td>none</td>\n",
       "      <td>other</td>\n",
       "      <td>28</td>\n",
       "      <td>none</td>\n",
       "      <td>...</td>\n",
       "      <td>1</td>\n",
       "      <td>1</td>\n",
       "      <td>yes</td>\n",
       "      <td>mangement self-employed</td>\n",
       "      <td>female</td>\n",
       "      <td>12</td>\n",
       "      <td>repaid</td>\n",
       "      <td>furniture</td>\n",
       "      <td>5</td>\n",
       "      <td>0</td>\n",
       "    </tr>\n",
       "    <tr>\n",
       "      <th>516</th>\n",
       "      <td>-9999.0</td>\n",
       "      <td>18</td>\n",
       "      <td>1505</td>\n",
       "      <td>0.0</td>\n",
       "      <td>4</td>\n",
       "      <td>single</td>\n",
       "      <td>none</td>\n",
       "      <td>unknown/none</td>\n",
       "      <td>32</td>\n",
       "      <td>none</td>\n",
       "      <td>...</td>\n",
       "      <td>0</td>\n",
       "      <td>1</td>\n",
       "      <td>yes</td>\n",
       "      <td>mangement self-employed</td>\n",
       "      <td>male</td>\n",
       "      <td>24</td>\n",
       "      <td>repaid</td>\n",
       "      <td>radio/tv</td>\n",
       "      <td>3</td>\n",
       "      <td>0</td>\n",
       "    </tr>\n",
       "    <tr>\n",
       "      <th>591</th>\n",
       "      <td>-36.0</td>\n",
       "      <td>21</td>\n",
       "      <td>1602</td>\n",
       "      <td>0.0</td>\n",
       "      <td>4</td>\n",
       "      <td>married</td>\n",
       "      <td>none</td>\n",
       "      <td>other</td>\n",
       "      <td>30</td>\n",
       "      <td>none</td>\n",
       "      <td>...</td>\n",
       "      <td>0</td>\n",
       "      <td>1</td>\n",
       "      <td>yes</td>\n",
       "      <td>skilled employee</td>\n",
       "      <td>male</td>\n",
       "      <td>144</td>\n",
       "      <td>critical</td>\n",
       "      <td>car (new)</td>\n",
       "      <td>12</td>\n",
       "      <td>0</td>\n",
       "    </tr>\n",
       "    <tr>\n",
       "      <th>597</th>\n",
       "      <td>-39.0</td>\n",
       "      <td>12</td>\n",
       "      <td>1082</td>\n",
       "      <td>0.0</td>\n",
       "      <td>4</td>\n",
       "      <td>single</td>\n",
       "      <td>none</td>\n",
       "      <td>other</td>\n",
       "      <td>48</td>\n",
       "      <td>bank</td>\n",
       "      <td>...</td>\n",
       "      <td>1</td>\n",
       "      <td>1</td>\n",
       "      <td>yes</td>\n",
       "      <td>skilled employee</td>\n",
       "      <td>male</td>\n",
       "      <td>36</td>\n",
       "      <td>fully repaid</td>\n",
       "      <td>car (new)</td>\n",
       "      <td>132</td>\n",
       "      <td>1</td>\n",
       "    </tr>\n",
       "  </tbody>\n",
       "</table>\n",
       "<p>7 rows × 22 columns</p>\n",
       "</div>"
      ],
      "text/plain": [
       "     checking_balance  months_loan_duration  amount  savings_balance  \\\n",
       "248             199.0                    13     882              0.0   \n",
       "266           -9999.0                    18    3850              0.0   \n",
       "422             -41.0                    18    2039              0.0   \n",
       "436           -9999.0                    36    3349              0.0   \n",
       "516           -9999.0                    18    1505              0.0   \n",
       "591             -36.0                    21    1602              0.0   \n",
       "597             -39.0                    12    1082              0.0   \n",
       "\n",
       "     installment_rate personal_status other_debtors      property  age  \\\n",
       "248                 4          single     guarantor   real estate   23   \n",
       "266                 3          single          none         other   27   \n",
       "422                 1             NaN          none   real estate   20   \n",
       "436                 4             NaN          none         other   28   \n",
       "516                 4          single          none  unknown/none   32   \n",
       "591                 4         married          none         other   30   \n",
       "597                 4          single          none         other   48   \n",
       "\n",
       "    installment_plan  ... default  dependents  foreign_worker  \\\n",
       "248             none  ...       0           1             yes   \n",
       "266             none  ...       0           1             yes   \n",
       "422             bank  ...       1           1             yes   \n",
       "436             none  ...       1           1             yes   \n",
       "516             none  ...       0           1             yes   \n",
       "591             none  ...       0           1             yes   \n",
       "597             bank  ...       1           1             yes   \n",
       "\n",
       "                         job  gender emp_length_1 credit_history_1  \\\n",
       "248         skilled employee    male            1         critical   \n",
       "266         skilled employee    male           60         critical   \n",
       "422         skilled employee  female           36           repaid   \n",
       "436  mangement self-employed  female           12           repaid   \n",
       "516  mangement self-employed    male           24           repaid   \n",
       "591         skilled employee    male          144         critical   \n",
       "597         skilled employee    male           36     fully repaid   \n",
       "\n",
       "      purpose_1 residence_history_1 tel_1  \n",
       "248    radio/tv                 276     1  \n",
       "266  car (used)                   0     1  \n",
       "422   furniture                 108     1  \n",
       "436   furniture                   5     0  \n",
       "516    radio/tv                   3     0  \n",
       "591   car (new)                  12     0  \n",
       "597   car (new)                 132     1  \n",
       "\n",
       "[7 rows x 22 columns]"
      ]
     },
     "execution_count": 44,
     "metadata": {},
     "output_type": "execute_result"
    }
   ],
   "source": [
    "train[train['savings_balance'] == 0]"
   ]
  },
  {
   "cell_type": "code",
   "execution_count": 45,
   "id": "330b184c",
   "metadata": {},
   "outputs": [],
   "source": [
    "train['savings_balance'].fillna(-9999, inplace = True)"
   ]
  },
  {
   "cell_type": "code",
   "execution_count": 46,
   "id": "f5d3bddc",
   "metadata": {},
   "outputs": [
    {
     "data": {
      "text/plain": [
       "single      401\n",
       "married      64\n",
       "divorced     33\n",
       "Name: personal_status, dtype: int64"
      ]
     },
     "execution_count": 46,
     "metadata": {},
     "output_type": "execute_result"
    }
   ],
   "source": [
    "train['personal_status'].value_counts()"
   ]
  },
  {
   "cell_type": "code",
   "execution_count": 47,
   "id": "25076c75",
   "metadata": {},
   "outputs": [],
   "source": [
    "train['personal_status'].fillna(\"missing\", inplace = True)"
   ]
  },
  {
   "cell_type": "code",
   "execution_count": 48,
   "id": "d83b74ac",
   "metadata": {},
   "outputs": [
    {
     "data": {
      "text/plain": [
       "checking_balance        0\n",
       "months_loan_duration    0\n",
       "amount                  0\n",
       "savings_balance         0\n",
       "installment_rate        0\n",
       "personal_status         0\n",
       "other_debtors           0\n",
       "property                0\n",
       "age                     0\n",
       "installment_plan        0\n",
       "housing                 0\n",
       "existing_credits        0\n",
       "default                 0\n",
       "dependents              0\n",
       "foreign_worker          0\n",
       "job                     0\n",
       "gender                  0\n",
       "emp_length_1            0\n",
       "credit_history_1        0\n",
       "purpose_1               0\n",
       "residence_history_1     0\n",
       "tel_1                   0\n",
       "dtype: int64"
      ]
     },
     "execution_count": 48,
     "metadata": {},
     "output_type": "execute_result"
    }
   ],
   "source": [
    "train.isnull().sum()"
   ]
  },
  {
   "cell_type": "code",
   "execution_count": 49,
   "id": "a1e07918",
   "metadata": {},
   "outputs": [
    {
     "data": {
      "text/plain": [
       "(708, 22)"
      ]
     },
     "execution_count": 49,
     "metadata": {},
     "output_type": "execute_result"
    }
   ],
   "source": [
    "train.shape"
   ]
  },
  {
   "cell_type": "code",
   "execution_count": 50,
   "id": "0b804690",
   "metadata": {},
   "outputs": [],
   "source": [
    "from sklearn.preprocessing import OneHotEncoder"
   ]
  },
  {
   "cell_type": "code",
   "execution_count": 51,
   "id": "ef8889e4",
   "metadata": {},
   "outputs": [],
   "source": [
    "df_obj = train.select_dtypes(include = ['object'])\n",
    "drop_enc = OneHotEncoder(drop = 'first') .fit(df_obj)"
   ]
  },
  {
   "cell_type": "code",
   "execution_count": 52,
   "id": "d6d7b98a",
   "metadata": {},
   "outputs": [],
   "source": [
    "drop_enc = drop_enc.transform(df_obj)"
   ]
  },
  {
   "cell_type": "code",
   "execution_count": 53,
   "id": "76a09291",
   "metadata": {},
   "outputs": [
    {
     "name": "stdout",
     "output_type": "stream",
     "text": [
      "Requirement already satisfied: category_encoders in /opt/anaconda3/lib/python3.9/site-packages (2.4.0)\n",
      "Requirement already satisfied: patsy>=0.5.1 in /opt/anaconda3/lib/python3.9/site-packages (from category_encoders) (0.5.2)\n",
      "Requirement already satisfied: statsmodels>=0.9.0 in /opt/anaconda3/lib/python3.9/site-packages (from category_encoders) (0.12.2)\n",
      "Requirement already satisfied: numpy>=1.14.0 in /opt/anaconda3/lib/python3.9/site-packages (from category_encoders) (1.20.3)\n",
      "Requirement already satisfied: scipy>=1.0.0 in /opt/anaconda3/lib/python3.9/site-packages (from category_encoders) (1.7.1)\n",
      "Requirement already satisfied: pandas>=0.21.1 in /opt/anaconda3/lib/python3.9/site-packages (from category_encoders) (1.3.4)\n",
      "Requirement already satisfied: scikit-learn>=0.20.0 in /opt/anaconda3/lib/python3.9/site-packages (from category_encoders) (0.24.2)\n",
      "Requirement already satisfied: python-dateutil>=2.7.3 in /opt/anaconda3/lib/python3.9/site-packages (from pandas>=0.21.1->category_encoders) (2.8.2)\n",
      "Requirement already satisfied: pytz>=2017.3 in /opt/anaconda3/lib/python3.9/site-packages (from pandas>=0.21.1->category_encoders) (2021.3)\n",
      "Requirement already satisfied: six in /opt/anaconda3/lib/python3.9/site-packages (from patsy>=0.5.1->category_encoders) (1.16.0)\n",
      "Requirement already satisfied: threadpoolctl>=2.0.0 in /opt/anaconda3/lib/python3.9/site-packages (from scikit-learn>=0.20.0->category_encoders) (2.2.0)\n",
      "Requirement already satisfied: joblib>=0.11 in /opt/anaconda3/lib/python3.9/site-packages (from scikit-learn>=0.20.0->category_encoders) (1.1.0)\n"
     ]
    }
   ],
   "source": [
    "!pip install category_encoders"
   ]
  },
  {
   "cell_type": "code",
   "execution_count": 54,
   "id": "dfea2c1c",
   "metadata": {},
   "outputs": [],
   "source": [
    "from category_encoders.one_hot import OneHotEncoder"
   ]
  },
  {
   "cell_type": "code",
   "execution_count": 55,
   "id": "aacf081d",
   "metadata": {},
   "outputs": [],
   "source": [
    "cols_encoding = train.select_dtypes(include='object').columns\n",
    "ohe = OneHotEncoder(cols=cols_encoding)"
   ]
  },
  {
   "cell_type": "code",
   "execution_count": 56,
   "id": "e330c343",
   "metadata": {},
   "outputs": [],
   "source": [
    "X = train.drop('default', axis =1)\n",
    "y = train['default']"
   ]
  },
  {
   "cell_type": "code",
   "execution_count": 57,
   "id": "473cb935",
   "metadata": {},
   "outputs": [
    {
     "data": {
      "text/html": [
       "<div>\n",
       "<style scoped>\n",
       "    .dataframe tbody tr th:only-of-type {\n",
       "        vertical-align: middle;\n",
       "    }\n",
       "\n",
       "    .dataframe tbody tr th {\n",
       "        vertical-align: top;\n",
       "    }\n",
       "\n",
       "    .dataframe thead th {\n",
       "        text-align: right;\n",
       "    }\n",
       "</style>\n",
       "<table border=\"1\" class=\"dataframe\">\n",
       "  <thead>\n",
       "    <tr style=\"text-align: right;\">\n",
       "      <th></th>\n",
       "      <th>checking_balance</th>\n",
       "      <th>months_loan_duration</th>\n",
       "      <th>amount</th>\n",
       "      <th>savings_balance</th>\n",
       "      <th>installment_rate</th>\n",
       "      <th>personal_status_1</th>\n",
       "      <th>personal_status_2</th>\n",
       "      <th>personal_status_3</th>\n",
       "      <th>personal_status_4</th>\n",
       "      <th>other_debtors_1</th>\n",
       "      <th>...</th>\n",
       "      <th>credit_history_1_4</th>\n",
       "      <th>purpose_1_1</th>\n",
       "      <th>purpose_1_2</th>\n",
       "      <th>purpose_1_3</th>\n",
       "      <th>purpose_1_4</th>\n",
       "      <th>purpose_1_5</th>\n",
       "      <th>purpose_1_6</th>\n",
       "      <th>purpose_1_7</th>\n",
       "      <th>residence_history_1</th>\n",
       "      <th>tel_1</th>\n",
       "    </tr>\n",
       "  </thead>\n",
       "  <tbody>\n",
       "    <tr>\n",
       "      <th>0</th>\n",
       "      <td>-43.0</td>\n",
       "      <td>6</td>\n",
       "      <td>1169</td>\n",
       "      <td>-9999.0</td>\n",
       "      <td>4</td>\n",
       "      <td>1</td>\n",
       "      <td>0</td>\n",
       "      <td>0</td>\n",
       "      <td>0</td>\n",
       "      <td>1</td>\n",
       "      <td>...</td>\n",
       "      <td>0</td>\n",
       "      <td>1</td>\n",
       "      <td>0</td>\n",
       "      <td>0</td>\n",
       "      <td>0</td>\n",
       "      <td>0</td>\n",
       "      <td>0</td>\n",
       "      <td>0</td>\n",
       "      <td>72</td>\n",
       "      <td>0</td>\n",
       "    </tr>\n",
       "    <tr>\n",
       "      <th>1</th>\n",
       "      <td>75.0</td>\n",
       "      <td>48</td>\n",
       "      <td>5951</td>\n",
       "      <td>89.0</td>\n",
       "      <td>2</td>\n",
       "      <td>0</td>\n",
       "      <td>1</td>\n",
       "      <td>0</td>\n",
       "      <td>0</td>\n",
       "      <td>1</td>\n",
       "      <td>...</td>\n",
       "      <td>0</td>\n",
       "      <td>1</td>\n",
       "      <td>0</td>\n",
       "      <td>0</td>\n",
       "      <td>0</td>\n",
       "      <td>0</td>\n",
       "      <td>0</td>\n",
       "      <td>0</td>\n",
       "      <td>5</td>\n",
       "      <td>1</td>\n",
       "    </tr>\n",
       "    <tr>\n",
       "      <th>2</th>\n",
       "      <td>-32.0</td>\n",
       "      <td>42</td>\n",
       "      <td>7882</td>\n",
       "      <td>9.0</td>\n",
       "      <td>2</td>\n",
       "      <td>1</td>\n",
       "      <td>0</td>\n",
       "      <td>0</td>\n",
       "      <td>0</td>\n",
       "      <td>0</td>\n",
       "      <td>...</td>\n",
       "      <td>0</td>\n",
       "      <td>0</td>\n",
       "      <td>1</td>\n",
       "      <td>0</td>\n",
       "      <td>0</td>\n",
       "      <td>0</td>\n",
       "      <td>0</td>\n",
       "      <td>0</td>\n",
       "      <td>156</td>\n",
       "      <td>1</td>\n",
       "    </tr>\n",
       "    <tr>\n",
       "      <th>3</th>\n",
       "      <td>-9999.0</td>\n",
       "      <td>36</td>\n",
       "      <td>9055</td>\n",
       "      <td>-9999.0</td>\n",
       "      <td>2</td>\n",
       "      <td>1</td>\n",
       "      <td>0</td>\n",
       "      <td>0</td>\n",
       "      <td>0</td>\n",
       "      <td>1</td>\n",
       "      <td>...</td>\n",
       "      <td>0</td>\n",
       "      <td>0</td>\n",
       "      <td>0</td>\n",
       "      <td>1</td>\n",
       "      <td>0</td>\n",
       "      <td>0</td>\n",
       "      <td>0</td>\n",
       "      <td>0</td>\n",
       "      <td>96</td>\n",
       "      <td>0</td>\n",
       "    </tr>\n",
       "    <tr>\n",
       "      <th>4</th>\n",
       "      <td>169.0</td>\n",
       "      <td>36</td>\n",
       "      <td>6948</td>\n",
       "      <td>57.0</td>\n",
       "      <td>2</td>\n",
       "      <td>1</td>\n",
       "      <td>0</td>\n",
       "      <td>0</td>\n",
       "      <td>0</td>\n",
       "      <td>1</td>\n",
       "      <td>...</td>\n",
       "      <td>0</td>\n",
       "      <td>0</td>\n",
       "      <td>0</td>\n",
       "      <td>0</td>\n",
       "      <td>1</td>\n",
       "      <td>0</td>\n",
       "      <td>0</td>\n",
       "      <td>0</td>\n",
       "      <td>3</td>\n",
       "      <td>0</td>\n",
       "    </tr>\n",
       "    <tr>\n",
       "      <th>...</th>\n",
       "      <td>...</td>\n",
       "      <td>...</td>\n",
       "      <td>...</td>\n",
       "      <td>...</td>\n",
       "      <td>...</td>\n",
       "      <td>...</td>\n",
       "      <td>...</td>\n",
       "      <td>...</td>\n",
       "      <td>...</td>\n",
       "      <td>...</td>\n",
       "      <td>...</td>\n",
       "      <td>...</td>\n",
       "      <td>...</td>\n",
       "      <td>...</td>\n",
       "      <td>...</td>\n",
       "      <td>...</td>\n",
       "      <td>...</td>\n",
       "      <td>...</td>\n",
       "      <td>...</td>\n",
       "      <td>...</td>\n",
       "      <td>...</td>\n",
       "    </tr>\n",
       "    <tr>\n",
       "      <th>703</th>\n",
       "      <td>-12.0</td>\n",
       "      <td>24</td>\n",
       "      <td>6579</td>\n",
       "      <td>21.0</td>\n",
       "      <td>4</td>\n",
       "      <td>1</td>\n",
       "      <td>0</td>\n",
       "      <td>0</td>\n",
       "      <td>0</td>\n",
       "      <td>1</td>\n",
       "      <td>...</td>\n",
       "      <td>0</td>\n",
       "      <td>0</td>\n",
       "      <td>0</td>\n",
       "      <td>0</td>\n",
       "      <td>1</td>\n",
       "      <td>0</td>\n",
       "      <td>0</td>\n",
       "      <td>0</td>\n",
       "      <td>10</td>\n",
       "      <td>0</td>\n",
       "    </tr>\n",
       "    <tr>\n",
       "      <th>704</th>\n",
       "      <td>97.0</td>\n",
       "      <td>24</td>\n",
       "      <td>1743</td>\n",
       "      <td>40.0</td>\n",
       "      <td>4</td>\n",
       "      <td>1</td>\n",
       "      <td>0</td>\n",
       "      <td>0</td>\n",
       "      <td>0</td>\n",
       "      <td>1</td>\n",
       "      <td>...</td>\n",
       "      <td>0</td>\n",
       "      <td>1</td>\n",
       "      <td>0</td>\n",
       "      <td>0</td>\n",
       "      <td>0</td>\n",
       "      <td>0</td>\n",
       "      <td>0</td>\n",
       "      <td>0</td>\n",
       "      <td>4</td>\n",
       "      <td>1</td>\n",
       "    </tr>\n",
       "    <tr>\n",
       "      <th>705</th>\n",
       "      <td>-9999.0</td>\n",
       "      <td>12</td>\n",
       "      <td>2390</td>\n",
       "      <td>-9999.0</td>\n",
       "      <td>4</td>\n",
       "      <td>1</td>\n",
       "      <td>0</td>\n",
       "      <td>0</td>\n",
       "      <td>0</td>\n",
       "      <td>1</td>\n",
       "      <td>...</td>\n",
       "      <td>0</td>\n",
       "      <td>0</td>\n",
       "      <td>0</td>\n",
       "      <td>0</td>\n",
       "      <td>0</td>\n",
       "      <td>1</td>\n",
       "      <td>0</td>\n",
       "      <td>0</td>\n",
       "      <td>12</td>\n",
       "      <td>0</td>\n",
       "    </tr>\n",
       "    <tr>\n",
       "      <th>706</th>\n",
       "      <td>-9999.0</td>\n",
       "      <td>12</td>\n",
       "      <td>804</td>\n",
       "      <td>44.0</td>\n",
       "      <td>4</td>\n",
       "      <td>1</td>\n",
       "      <td>0</td>\n",
       "      <td>0</td>\n",
       "      <td>0</td>\n",
       "      <td>1</td>\n",
       "      <td>...</td>\n",
       "      <td>0</td>\n",
       "      <td>1</td>\n",
       "      <td>0</td>\n",
       "      <td>0</td>\n",
       "      <td>0</td>\n",
       "      <td>0</td>\n",
       "      <td>0</td>\n",
       "      <td>0</td>\n",
       "      <td>192</td>\n",
       "      <td>1</td>\n",
       "    </tr>\n",
       "    <tr>\n",
       "      <th>707</th>\n",
       "      <td>-18.0</td>\n",
       "      <td>45</td>\n",
       "      <td>1845</td>\n",
       "      <td>31.0</td>\n",
       "      <td>4</td>\n",
       "      <td>1</td>\n",
       "      <td>0</td>\n",
       "      <td>0</td>\n",
       "      <td>0</td>\n",
       "      <td>1</td>\n",
       "      <td>...</td>\n",
       "      <td>0</td>\n",
       "      <td>1</td>\n",
       "      <td>0</td>\n",
       "      <td>0</td>\n",
       "      <td>0</td>\n",
       "      <td>0</td>\n",
       "      <td>0</td>\n",
       "      <td>0</td>\n",
       "      <td>96</td>\n",
       "      <td>0</td>\n",
       "    </tr>\n",
       "  </tbody>\n",
       "</table>\n",
       "<p>708 rows × 47 columns</p>\n",
       "</div>"
      ],
      "text/plain": [
       "     checking_balance  months_loan_duration  amount  savings_balance  \\\n",
       "0               -43.0                     6    1169          -9999.0   \n",
       "1                75.0                    48    5951             89.0   \n",
       "2               -32.0                    42    7882              9.0   \n",
       "3             -9999.0                    36    9055          -9999.0   \n",
       "4               169.0                    36    6948             57.0   \n",
       "..                ...                   ...     ...              ...   \n",
       "703             -12.0                    24    6579             21.0   \n",
       "704              97.0                    24    1743             40.0   \n",
       "705           -9999.0                    12    2390          -9999.0   \n",
       "706           -9999.0                    12     804             44.0   \n",
       "707             -18.0                    45    1845             31.0   \n",
       "\n",
       "     installment_rate  personal_status_1  personal_status_2  \\\n",
       "0                   4                  1                  0   \n",
       "1                   2                  0                  1   \n",
       "2                   2                  1                  0   \n",
       "3                   2                  1                  0   \n",
       "4                   2                  1                  0   \n",
       "..                ...                ...                ...   \n",
       "703                 4                  1                  0   \n",
       "704                 4                  1                  0   \n",
       "705                 4                  1                  0   \n",
       "706                 4                  1                  0   \n",
       "707                 4                  1                  0   \n",
       "\n",
       "     personal_status_3  personal_status_4  other_debtors_1  ...  \\\n",
       "0                    0                  0                1  ...   \n",
       "1                    0                  0                1  ...   \n",
       "2                    0                  0                0  ...   \n",
       "3                    0                  0                1  ...   \n",
       "4                    0                  0                1  ...   \n",
       "..                 ...                ...              ...  ...   \n",
       "703                  0                  0                1  ...   \n",
       "704                  0                  0                1  ...   \n",
       "705                  0                  0                1  ...   \n",
       "706                  0                  0                1  ...   \n",
       "707                  0                  0                1  ...   \n",
       "\n",
       "     credit_history_1_4  purpose_1_1  purpose_1_2  purpose_1_3  purpose_1_4  \\\n",
       "0                     0            1            0            0            0   \n",
       "1                     0            1            0            0            0   \n",
       "2                     0            0            1            0            0   \n",
       "3                     0            0            0            1            0   \n",
       "4                     0            0            0            0            1   \n",
       "..                  ...          ...          ...          ...          ...   \n",
       "703                   0            0            0            0            1   \n",
       "704                   0            1            0            0            0   \n",
       "705                   0            0            0            0            0   \n",
       "706                   0            1            0            0            0   \n",
       "707                   0            1            0            0            0   \n",
       "\n",
       "     purpose_1_5  purpose_1_6  purpose_1_7  residence_history_1  tel_1  \n",
       "0              0            0            0                   72      0  \n",
       "1              0            0            0                    5      1  \n",
       "2              0            0            0                  156      1  \n",
       "3              0            0            0                   96      0  \n",
       "4              0            0            0                    3      0  \n",
       "..           ...          ...          ...                  ...    ...  \n",
       "703            0            0            0                   10      0  \n",
       "704            0            0            0                    4      1  \n",
       "705            1            0            0                   12      0  \n",
       "706            0            0            0                  192      1  \n",
       "707            0            0            0                   96      0  \n",
       "\n",
       "[708 rows x 47 columns]"
      ]
     },
     "execution_count": 57,
     "metadata": {},
     "output_type": "execute_result"
    }
   ],
   "source": [
    "encoded = ohe.fit_transform(X)\n",
    "\n",
    "encoded"
   ]
  },
  {
   "cell_type": "code",
   "execution_count": 58,
   "id": "a8400f7e",
   "metadata": {},
   "outputs": [
    {
     "name": "stdout",
     "output_type": "stream",
     "text": [
      "<class 'pandas.core.frame.DataFrame'>\n",
      "RangeIndex: 708 entries, 0 to 707\n",
      "Data columns (total 47 columns):\n",
      " #   Column                Non-Null Count  Dtype  \n",
      "---  ------                --------------  -----  \n",
      " 0   checking_balance      708 non-null    float64\n",
      " 1   months_loan_duration  708 non-null    int64  \n",
      " 2   amount                708 non-null    int64  \n",
      " 3   savings_balance       708 non-null    float64\n",
      " 4   installment_rate      708 non-null    int64  \n",
      " 5   personal_status_1     708 non-null    int64  \n",
      " 6   personal_status_2     708 non-null    int64  \n",
      " 7   personal_status_3     708 non-null    int64  \n",
      " 8   personal_status_4     708 non-null    int64  \n",
      " 9   other_debtors_1       708 non-null    int64  \n",
      " 10  other_debtors_2       708 non-null    int64  \n",
      " 11  other_debtors_3       708 non-null    int64  \n",
      " 12  property_1            708 non-null    int64  \n",
      " 13  property_2            708 non-null    int64  \n",
      " 14  property_3            708 non-null    int64  \n",
      " 15  property_4            708 non-null    int64  \n",
      " 16  age                   708 non-null    int64  \n",
      " 17  installment_plan_1    708 non-null    int64  \n",
      " 18  installment_plan_2    708 non-null    int64  \n",
      " 19  installment_plan_3    708 non-null    int64  \n",
      " 20  housing_1             708 non-null    int64  \n",
      " 21  housing_2             708 non-null    int64  \n",
      " 22  housing_3             708 non-null    int64  \n",
      " 23  existing_credits      708 non-null    int64  \n",
      " 24  dependents            708 non-null    int64  \n",
      " 25  foreign_worker_1      708 non-null    int64  \n",
      " 26  foreign_worker_2      708 non-null    int64  \n",
      " 27  job_1                 708 non-null    int64  \n",
      " 28  job_2                 708 non-null    int64  \n",
      " 29  job_3                 708 non-null    int64  \n",
      " 30  job_4                 708 non-null    int64  \n",
      " 31  gender_1              708 non-null    int64  \n",
      " 32  gender_2              708 non-null    int64  \n",
      " 33  emp_length_1          708 non-null    int64  \n",
      " 34  credit_history_1_1    708 non-null    int64  \n",
      " 35  credit_history_1_2    708 non-null    int64  \n",
      " 36  credit_history_1_3    708 non-null    int64  \n",
      " 37  credit_history_1_4    708 non-null    int64  \n",
      " 38  purpose_1_1           708 non-null    int64  \n",
      " 39  purpose_1_2           708 non-null    int64  \n",
      " 40  purpose_1_3           708 non-null    int64  \n",
      " 41  purpose_1_4           708 non-null    int64  \n",
      " 42  purpose_1_5           708 non-null    int64  \n",
      " 43  purpose_1_6           708 non-null    int64  \n",
      " 44  purpose_1_7           708 non-null    int64  \n",
      " 45  residence_history_1   708 non-null    int64  \n",
      " 46  tel_1                 708 non-null    int64  \n",
      "dtypes: float64(2), int64(45)\n",
      "memory usage: 260.1 KB\n"
     ]
    }
   ],
   "source": [
    "encoded.info()"
   ]
  },
  {
   "cell_type": "markdown",
   "id": "dc7b71c2",
   "metadata": {},
   "source": [
    "##### Cleaning Test dataset"
   ]
  },
  {
   "cell_type": "code",
   "execution_count": 60,
   "id": "40f22fb2",
   "metadata": {},
   "outputs": [],
   "source": [
    "def emp_length_1(x):\n",
    "    x = str(x).split()\n",
    "    if x[0]== 'nan':\n",
    "        return 0\n",
    "    else:\n",
    "        if x[1] == 'years':\n",
    "            return int(x[0])*12\n",
    "        else: \n",
    "            return int(x[0])"
   ]
  },
  {
   "cell_type": "code",
   "execution_count": 61,
   "id": "1a4c2a6e",
   "metadata": {},
   "outputs": [],
   "source": [
    "test['emp_length_1'] = test['employment_length'].apply(emp_length_1)"
   ]
  },
  {
   "cell_type": "code",
   "execution_count": 62,
   "id": "e10fd758",
   "metadata": {},
   "outputs": [
    {
     "data": {
      "text/plain": [
       "0       60\n",
       "1       36\n",
       "2      132\n",
       "3      192\n",
       "4      204\n",
       "      ... \n",
       "287     72\n",
       "288      0\n",
       "289     48\n",
       "290     36\n",
       "291      0\n",
       "Name: emp_length_1, Length: 292, dtype: int64"
      ]
     },
     "execution_count": 62,
     "metadata": {},
     "output_type": "execute_result"
    }
   ],
   "source": [
    "test['emp_length_1']"
   ]
  },
  {
   "cell_type": "code",
   "execution_count": 64,
   "id": "22326ed1",
   "metadata": {},
   "outputs": [],
   "source": [
    "test['credit_history_1'] = test['credit_history'].apply(merge_cred_hist)"
   ]
  },
  {
   "cell_type": "code",
   "execution_count": 65,
   "id": "aa1af427",
   "metadata": {},
   "outputs": [],
   "source": [
    "test['purpose_1'] = test['purpose'].apply(merge_purpose)"
   ]
  },
  {
   "cell_type": "code",
   "execution_count": 66,
   "id": "22a205aa",
   "metadata": {},
   "outputs": [],
   "source": [
    "test['residence_history_1'] = test['residence_history'].apply(res_hist_1)"
   ]
  },
  {
   "cell_type": "code",
   "execution_count": 67,
   "id": "10bec1f1",
   "metadata": {},
   "outputs": [],
   "source": [
    " test['tele_1'] = test['telephone'].apply(engr_tel)"
   ]
  },
  {
   "cell_type": "code",
   "execution_count": 68,
   "id": "d0c644bf",
   "metadata": {},
   "outputs": [],
   "source": [
    "test.drop(['Unnamed: 0', 'credit_history', 'purpose', \n",
    "       'employment_length', 'residence_history', 'telephone', 'Id'], axis = 1, inplace = True)"
   ]
  },
  {
   "cell_type": "code",
   "execution_count": 69,
   "id": "0841dc5f",
   "metadata": {},
   "outputs": [
    {
     "data": {
      "text/plain": [
       "Index(['checking_balance', 'months_loan_duration', 'amount', 'savings_balance',\n",
       "       'installment_rate', 'personal_status', 'other_debtors', 'property',\n",
       "       'age', 'installment_plan', 'housing', 'existing_credits', 'dependents',\n",
       "       'foreign_worker', 'job', 'gender', 'emp_length_1', 'credit_history_1',\n",
       "       'purpose_1', 'residence_history_1', 'tele_1'],\n",
       "      dtype='object')"
      ]
     },
     "execution_count": 69,
     "metadata": {},
     "output_type": "execute_result"
    }
   ],
   "source": [
    "test.columns"
   ]
  },
  {
   "cell_type": "code",
   "execution_count": 70,
   "id": "ce2454d8",
   "metadata": {},
   "outputs": [
    {
     "data": {
      "text/plain": [
       "checking_balance        113\n",
       "months_loan_duration      0\n",
       "amount                    0\n",
       "savings_balance          54\n",
       "installment_rate          0\n",
       "personal_status         100\n",
       "other_debtors             0\n",
       "property                  0\n",
       "age                       0\n",
       "installment_plan          0\n",
       "housing                   0\n",
       "existing_credits          0\n",
       "dependents                0\n",
       "foreign_worker            0\n",
       "job                       0\n",
       "gender                    0\n",
       "emp_length_1              0\n",
       "credit_history_1          0\n",
       "purpose_1                 0\n",
       "residence_history_1       0\n",
       "tele_1                    0\n",
       "dtype: int64"
      ]
     },
     "execution_count": 70,
     "metadata": {},
     "output_type": "execute_result"
    }
   ],
   "source": [
    "test.isnull().sum()"
   ]
  },
  {
   "cell_type": "code",
   "execution_count": 71,
   "id": "d0a34c3b",
   "metadata": {},
   "outputs": [],
   "source": [
    "test['checking_balance'].fillna(-9999, inplace = True)"
   ]
  },
  {
   "cell_type": "code",
   "execution_count": 72,
   "id": "c0fdf7da",
   "metadata": {},
   "outputs": [],
   "source": [
    "test['savings_balance'].fillna(-9999, inplace = True)"
   ]
  },
  {
   "cell_type": "code",
   "execution_count": 73,
   "id": "9b619aad",
   "metadata": {},
   "outputs": [],
   "source": [
    "test['personal_status'].fillna(\"missing\", inplace = True)"
   ]
  },
  {
   "cell_type": "code",
   "execution_count": 74,
   "id": "4d1317d7",
   "metadata": {},
   "outputs": [
    {
     "data": {
      "text/html": [
       "<div>\n",
       "<style scoped>\n",
       "    .dataframe tbody tr th:only-of-type {\n",
       "        vertical-align: middle;\n",
       "    }\n",
       "\n",
       "    .dataframe tbody tr th {\n",
       "        vertical-align: top;\n",
       "    }\n",
       "\n",
       "    .dataframe thead th {\n",
       "        text-align: right;\n",
       "    }\n",
       "</style>\n",
       "<table border=\"1\" class=\"dataframe\">\n",
       "  <thead>\n",
       "    <tr style=\"text-align: right;\">\n",
       "      <th></th>\n",
       "      <th>checking_balance</th>\n",
       "      <th>months_loan_duration</th>\n",
       "      <th>amount</th>\n",
       "      <th>savings_balance</th>\n",
       "      <th>installment_rate</th>\n",
       "      <th>personal_status_1</th>\n",
       "      <th>personal_status_2</th>\n",
       "      <th>personal_status_3</th>\n",
       "      <th>personal_status_4</th>\n",
       "      <th>other_debtors_1</th>\n",
       "      <th>...</th>\n",
       "      <th>credit_history_1_4</th>\n",
       "      <th>purpose_1_1</th>\n",
       "      <th>purpose_1_2</th>\n",
       "      <th>purpose_1_3</th>\n",
       "      <th>purpose_1_4</th>\n",
       "      <th>purpose_1_5</th>\n",
       "      <th>purpose_1_6</th>\n",
       "      <th>purpose_1_7</th>\n",
       "      <th>residence_history_1</th>\n",
       "      <th>tele_1</th>\n",
       "    </tr>\n",
       "  </thead>\n",
       "  <tbody>\n",
       "    <tr>\n",
       "      <th>0</th>\n",
       "      <td>-9999.0</td>\n",
       "      <td>12</td>\n",
       "      <td>2096</td>\n",
       "      <td>24.0</td>\n",
       "      <td>2</td>\n",
       "      <td>1</td>\n",
       "      <td>0</td>\n",
       "      <td>0</td>\n",
       "      <td>0</td>\n",
       "      <td>1</td>\n",
       "      <td>...</td>\n",
       "      <td>0</td>\n",
       "      <td>0</td>\n",
       "      <td>0</td>\n",
       "      <td>1</td>\n",
       "      <td>0</td>\n",
       "      <td>0</td>\n",
       "      <td>0</td>\n",
       "      <td>0</td>\n",
       "      <td>48</td>\n",
       "      <td>1</td>\n",
       "    </tr>\n",
       "    <tr>\n",
       "      <th>1</th>\n",
       "      <td>-23.0</td>\n",
       "      <td>24</td>\n",
       "      <td>4870</td>\n",
       "      <td>43.0</td>\n",
       "      <td>3</td>\n",
       "      <td>1</td>\n",
       "      <td>0</td>\n",
       "      <td>0</td>\n",
       "      <td>0</td>\n",
       "      <td>1</td>\n",
       "      <td>...</td>\n",
       "      <td>1</td>\n",
       "      <td>0</td>\n",
       "      <td>0</td>\n",
       "      <td>0</td>\n",
       "      <td>0</td>\n",
       "      <td>1</td>\n",
       "      <td>0</td>\n",
       "      <td>0</td>\n",
       "      <td>156</td>\n",
       "      <td>1</td>\n",
       "    </tr>\n",
       "    <tr>\n",
       "      <th>2</th>\n",
       "      <td>-9999.0</td>\n",
       "      <td>24</td>\n",
       "      <td>2835</td>\n",
       "      <td>761.0</td>\n",
       "      <td>3</td>\n",
       "      <td>1</td>\n",
       "      <td>0</td>\n",
       "      <td>0</td>\n",
       "      <td>0</td>\n",
       "      <td>1</td>\n",
       "      <td>...</td>\n",
       "      <td>0</td>\n",
       "      <td>0</td>\n",
       "      <td>1</td>\n",
       "      <td>0</td>\n",
       "      <td>0</td>\n",
       "      <td>0</td>\n",
       "      <td>0</td>\n",
       "      <td>0</td>\n",
       "      <td>144</td>\n",
       "      <td>1</td>\n",
       "    </tr>\n",
       "    <tr>\n",
       "      <th>3</th>\n",
       "      <td>-36.0</td>\n",
       "      <td>24</td>\n",
       "      <td>1199</td>\n",
       "      <td>32.0</td>\n",
       "      <td>4</td>\n",
       "      <td>1</td>\n",
       "      <td>0</td>\n",
       "      <td>0</td>\n",
       "      <td>0</td>\n",
       "      <td>1</td>\n",
       "      <td>...</td>\n",
       "      <td>0</td>\n",
       "      <td>0</td>\n",
       "      <td>0</td>\n",
       "      <td>0</td>\n",
       "      <td>0</td>\n",
       "      <td>1</td>\n",
       "      <td>0</td>\n",
       "      <td>0</td>\n",
       "      <td>288</td>\n",
       "      <td>1</td>\n",
       "    </tr>\n",
       "    <tr>\n",
       "      <th>4</th>\n",
       "      <td>83.0</td>\n",
       "      <td>24</td>\n",
       "      <td>12579</td>\n",
       "      <td>16.0</td>\n",
       "      <td>4</td>\n",
       "      <td>0</td>\n",
       "      <td>1</td>\n",
       "      <td>0</td>\n",
       "      <td>0</td>\n",
       "      <td>1</td>\n",
       "      <td>...</td>\n",
       "      <td>0</td>\n",
       "      <td>0</td>\n",
       "      <td>0</td>\n",
       "      <td>0</td>\n",
       "      <td>1</td>\n",
       "      <td>0</td>\n",
       "      <td>0</td>\n",
       "      <td>0</td>\n",
       "      <td>8</td>\n",
       "      <td>0</td>\n",
       "    </tr>\n",
       "    <tr>\n",
       "      <th>...</th>\n",
       "      <td>...</td>\n",
       "      <td>...</td>\n",
       "      <td>...</td>\n",
       "      <td>...</td>\n",
       "      <td>...</td>\n",
       "      <td>...</td>\n",
       "      <td>...</td>\n",
       "      <td>...</td>\n",
       "      <td>...</td>\n",
       "      <td>...</td>\n",
       "      <td>...</td>\n",
       "      <td>...</td>\n",
       "      <td>...</td>\n",
       "      <td>...</td>\n",
       "      <td>...</td>\n",
       "      <td>...</td>\n",
       "      <td>...</td>\n",
       "      <td>...</td>\n",
       "      <td>...</td>\n",
       "      <td>...</td>\n",
       "      <td>...</td>\n",
       "    </tr>\n",
       "    <tr>\n",
       "      <th>287</th>\n",
       "      <td>-37.0</td>\n",
       "      <td>18</td>\n",
       "      <td>1936</td>\n",
       "      <td>-9999.0</td>\n",
       "      <td>2</td>\n",
       "      <td>0</td>\n",
       "      <td>0</td>\n",
       "      <td>0</td>\n",
       "      <td>1</td>\n",
       "      <td>1</td>\n",
       "      <td>...</td>\n",
       "      <td>0</td>\n",
       "      <td>1</td>\n",
       "      <td>0</td>\n",
       "      <td>0</td>\n",
       "      <td>0</td>\n",
       "      <td>0</td>\n",
       "      <td>0</td>\n",
       "      <td>0</td>\n",
       "      <td>252</td>\n",
       "      <td>1</td>\n",
       "    </tr>\n",
       "    <tr>\n",
       "      <th>288</th>\n",
       "      <td>-18.0</td>\n",
       "      <td>36</td>\n",
       "      <td>3959</td>\n",
       "      <td>75.0</td>\n",
       "      <td>4</td>\n",
       "      <td>1</td>\n",
       "      <td>0</td>\n",
       "      <td>0</td>\n",
       "      <td>0</td>\n",
       "      <td>1</td>\n",
       "      <td>...</td>\n",
       "      <td>0</td>\n",
       "      <td>0</td>\n",
       "      <td>1</td>\n",
       "      <td>0</td>\n",
       "      <td>0</td>\n",
       "      <td>0</td>\n",
       "      <td>0</td>\n",
       "      <td>0</td>\n",
       "      <td>36</td>\n",
       "      <td>0</td>\n",
       "    </tr>\n",
       "    <tr>\n",
       "      <th>289</th>\n",
       "      <td>-9999.0</td>\n",
       "      <td>12</td>\n",
       "      <td>1736</td>\n",
       "      <td>48.0</td>\n",
       "      <td>3</td>\n",
       "      <td>0</td>\n",
       "      <td>1</td>\n",
       "      <td>0</td>\n",
       "      <td>0</td>\n",
       "      <td>1</td>\n",
       "      <td>...</td>\n",
       "      <td>0</td>\n",
       "      <td>0</td>\n",
       "      <td>1</td>\n",
       "      <td>0</td>\n",
       "      <td>0</td>\n",
       "      <td>0</td>\n",
       "      <td>0</td>\n",
       "      <td>0</td>\n",
       "      <td>240</td>\n",
       "      <td>1</td>\n",
       "    </tr>\n",
       "    <tr>\n",
       "      <th>290</th>\n",
       "      <td>-30.0</td>\n",
       "      <td>30</td>\n",
       "      <td>3857</td>\n",
       "      <td>20.0</td>\n",
       "      <td>4</td>\n",
       "      <td>0</td>\n",
       "      <td>0</td>\n",
       "      <td>1</td>\n",
       "      <td>0</td>\n",
       "      <td>1</td>\n",
       "      <td>...</td>\n",
       "      <td>0</td>\n",
       "      <td>0</td>\n",
       "      <td>0</td>\n",
       "      <td>0</td>\n",
       "      <td>1</td>\n",
       "      <td>0</td>\n",
       "      <td>0</td>\n",
       "      <td>0</td>\n",
       "      <td>60</td>\n",
       "      <td>0</td>\n",
       "    </tr>\n",
       "    <tr>\n",
       "      <th>291</th>\n",
       "      <td>194.0</td>\n",
       "      <td>45</td>\n",
       "      <td>4576</td>\n",
       "      <td>128.0</td>\n",
       "      <td>3</td>\n",
       "      <td>1</td>\n",
       "      <td>0</td>\n",
       "      <td>0</td>\n",
       "      <td>0</td>\n",
       "      <td>1</td>\n",
       "      <td>...</td>\n",
       "      <td>0</td>\n",
       "      <td>0</td>\n",
       "      <td>0</td>\n",
       "      <td>0</td>\n",
       "      <td>1</td>\n",
       "      <td>0</td>\n",
       "      <td>0</td>\n",
       "      <td>0</td>\n",
       "      <td>252</td>\n",
       "      <td>1</td>\n",
       "    </tr>\n",
       "  </tbody>\n",
       "</table>\n",
       "<p>292 rows × 47 columns</p>\n",
       "</div>"
      ],
      "text/plain": [
       "     checking_balance  months_loan_duration  amount  savings_balance  \\\n",
       "0             -9999.0                    12    2096             24.0   \n",
       "1               -23.0                    24    4870             43.0   \n",
       "2             -9999.0                    24    2835            761.0   \n",
       "3               -36.0                    24    1199             32.0   \n",
       "4                83.0                    24   12579             16.0   \n",
       "..                ...                   ...     ...              ...   \n",
       "287             -37.0                    18    1936          -9999.0   \n",
       "288             -18.0                    36    3959             75.0   \n",
       "289           -9999.0                    12    1736             48.0   \n",
       "290             -30.0                    30    3857             20.0   \n",
       "291             194.0                    45    4576            128.0   \n",
       "\n",
       "     installment_rate  personal_status_1  personal_status_2  \\\n",
       "0                   2                  1                  0   \n",
       "1                   3                  1                  0   \n",
       "2                   3                  1                  0   \n",
       "3                   4                  1                  0   \n",
       "4                   4                  0                  1   \n",
       "..                ...                ...                ...   \n",
       "287                 2                  0                  0   \n",
       "288                 4                  1                  0   \n",
       "289                 3                  0                  1   \n",
       "290                 4                  0                  0   \n",
       "291                 3                  1                  0   \n",
       "\n",
       "     personal_status_3  personal_status_4  other_debtors_1  ...  \\\n",
       "0                    0                  0                1  ...   \n",
       "1                    0                  0                1  ...   \n",
       "2                    0                  0                1  ...   \n",
       "3                    0                  0                1  ...   \n",
       "4                    0                  0                1  ...   \n",
       "..                 ...                ...              ...  ...   \n",
       "287                  0                  1                1  ...   \n",
       "288                  0                  0                1  ...   \n",
       "289                  0                  0                1  ...   \n",
       "290                  1                  0                1  ...   \n",
       "291                  0                  0                1  ...   \n",
       "\n",
       "     credit_history_1_4  purpose_1_1  purpose_1_2  purpose_1_3  purpose_1_4  \\\n",
       "0                     0            0            0            1            0   \n",
       "1                     1            0            0            0            0   \n",
       "2                     0            0            1            0            0   \n",
       "3                     0            0            0            0            0   \n",
       "4                     0            0            0            0            1   \n",
       "..                  ...          ...          ...          ...          ...   \n",
       "287                   0            1            0            0            0   \n",
       "288                   0            0            1            0            0   \n",
       "289                   0            0            1            0            0   \n",
       "290                   0            0            0            0            1   \n",
       "291                   0            0            0            0            1   \n",
       "\n",
       "     purpose_1_5  purpose_1_6  purpose_1_7  residence_history_1  tele_1  \n",
       "0              0            0            0                   48       1  \n",
       "1              1            0            0                  156       1  \n",
       "2              0            0            0                  144       1  \n",
       "3              1            0            0                  288       1  \n",
       "4              0            0            0                    8       0  \n",
       "..           ...          ...          ...                  ...     ...  \n",
       "287            0            0            0                  252       1  \n",
       "288            0            0            0                   36       0  \n",
       "289            0            0            0                  240       1  \n",
       "290            0            0            0                   60       0  \n",
       "291            0            0            0                  252       1  \n",
       "\n",
       "[292 rows x 47 columns]"
      ]
     },
     "execution_count": 74,
     "metadata": {},
     "output_type": "execute_result"
    }
   ],
   "source": [
    "encoded_test = ohe.transform(test)\n",
    "\n",
    "encoded_test"
   ]
  },
  {
   "cell_type": "code",
   "execution_count": 75,
   "id": "893f4b06",
   "metadata": {},
   "outputs": [
    {
     "name": "stdout",
     "output_type": "stream",
     "text": [
      "<class 'pandas.core.frame.DataFrame'>\n",
      "RangeIndex: 292 entries, 0 to 291\n",
      "Data columns (total 47 columns):\n",
      " #   Column                Non-Null Count  Dtype  \n",
      "---  ------                --------------  -----  \n",
      " 0   checking_balance      292 non-null    float64\n",
      " 1   months_loan_duration  292 non-null    int64  \n",
      " 2   amount                292 non-null    int64  \n",
      " 3   savings_balance       292 non-null    float64\n",
      " 4   installment_rate      292 non-null    int64  \n",
      " 5   personal_status_1     292 non-null    int64  \n",
      " 6   personal_status_2     292 non-null    int64  \n",
      " 7   personal_status_3     292 non-null    int64  \n",
      " 8   personal_status_4     292 non-null    int64  \n",
      " 9   other_debtors_1       292 non-null    int64  \n",
      " 10  other_debtors_2       292 non-null    int64  \n",
      " 11  other_debtors_3       292 non-null    int64  \n",
      " 12  property_1            292 non-null    int64  \n",
      " 13  property_2            292 non-null    int64  \n",
      " 14  property_3            292 non-null    int64  \n",
      " 15  property_4            292 non-null    int64  \n",
      " 16  age                   292 non-null    int64  \n",
      " 17  installment_plan_1    292 non-null    int64  \n",
      " 18  installment_plan_2    292 non-null    int64  \n",
      " 19  installment_plan_3    292 non-null    int64  \n",
      " 20  housing_1             292 non-null    int64  \n",
      " 21  housing_2             292 non-null    int64  \n",
      " 22  housing_3             292 non-null    int64  \n",
      " 23  existing_credits      292 non-null    int64  \n",
      " 24  dependents            292 non-null    int64  \n",
      " 25  foreign_worker_1      292 non-null    int64  \n",
      " 26  foreign_worker_2      292 non-null    int64  \n",
      " 27  job_1                 292 non-null    int64  \n",
      " 28  job_2                 292 non-null    int64  \n",
      " 29  job_3                 292 non-null    int64  \n",
      " 30  job_4                 292 non-null    int64  \n",
      " 31  gender_1              292 non-null    int64  \n",
      " 32  gender_2              292 non-null    int64  \n",
      " 33  emp_length_1          292 non-null    int64  \n",
      " 34  credit_history_1_1    292 non-null    int64  \n",
      " 35  credit_history_1_2    292 non-null    int64  \n",
      " 36  credit_history_1_3    292 non-null    int64  \n",
      " 37  credit_history_1_4    292 non-null    int64  \n",
      " 38  purpose_1_1           292 non-null    int64  \n",
      " 39  purpose_1_2           292 non-null    int64  \n",
      " 40  purpose_1_3           292 non-null    int64  \n",
      " 41  purpose_1_4           292 non-null    int64  \n",
      " 42  purpose_1_5           292 non-null    int64  \n",
      " 43  purpose_1_6           292 non-null    int64  \n",
      " 44  purpose_1_7           292 non-null    int64  \n",
      " 45  residence_history_1   292 non-null    int64  \n",
      " 46  tele_1                292 non-null    int64  \n",
      "dtypes: float64(2), int64(45)\n",
      "memory usage: 107.3 KB\n"
     ]
    }
   ],
   "source": [
    "encoded_test.info()"
   ]
  },
  {
   "cell_type": "markdown",
   "id": "32905790",
   "metadata": {},
   "source": [
    "3. Exploratory Data Analysis\n",
    "\n",
    "After cleaning the data and preparing it, Exploratory Data Analysis (EDA) will be performed to gather insights that will be useful for the model to learn from the data to help improve performance of the model"
   ]
  },
  {
   "cell_type": "code",
   "execution_count": 76,
   "id": "690e51b1",
   "metadata": {},
   "outputs": [
    {
     "data": {
      "text/plain": [
       "<AxesSubplot:xlabel='credit_history_1', ylabel='Count'>"
      ]
     },
     "execution_count": 76,
     "metadata": {},
     "output_type": "execute_result"
    },
    {
     "data": {
      "image/png": "[encoded data removed]",
      "text/plain": [
       "<Figure size 432x288 with 1 Axes>"
      ]
     },
     "metadata": {
      "needs_background": "light"
     },
     "output_type": "display_data"
    }
   ],
   "source": [
    "sns.histplot(train, x = 'credit_history_1', hue = 'default')"
   ]
  },
  {
   "cell_type": "code",
   "execution_count": 77,
   "id": "9415515c",
   "metadata": {},
   "outputs": [
    {
     "data": {
      "text/plain": [
       "<AxesSubplot:xlabel='checking_balance', ylabel='Count'>"
      ]
     },
     "execution_count": 77,
     "metadata": {},
     "output_type": "execute_result"
    },
    {
     "data": {
      "image/png": "[encoded data removed]",
      "text/plain": [
       "<Figure size 432x288 with 1 Axes>"
      ]
     },
     "metadata": {
      "needs_background": "light"
     },
     "output_type": "display_data"
    }
   ],
   "source": [
    "sns.histplot(train, x = 'checking_balance', hue = 'default')"
   ]
  },
  {
   "cell_type": "code",
   "execution_count": 78,
   "id": "a998fac4",
   "metadata": {},
   "outputs": [
    {
     "data": {
      "text/plain": [
       "<AxesSubplot:>"
      ]
     },
     "execution_count": 78,
     "metadata": {},
     "output_type": "execute_result"
    },
    {
     "data": {
      "image/png": "[encoded data removed]",
      "text/plain": [
       "<Figure size 432x288 with 2 Axes>"
      ]
     },
     "metadata": {
      "needs_background": "light"
     },
     "output_type": "display_data"
    }
   ],
   "source": [
    "sns.heatmap(train.corr())"
   ]
  },
  {
   "cell_type": "code",
   "execution_count": 79,
   "id": "c2915115",
   "metadata": {},
   "outputs": [
    {
     "data": {
      "text/plain": [
       "<seaborn.axisgrid.FacetGrid at 0x7fec56d915e0>"
      ]
     },
     "execution_count": 79,
     "metadata": {},
     "output_type": "execute_result"
    },
    {
     "data": {
      "image/png": "[encoded data removed]",
      "text/plain": [
       "<Figure size 432x216 with 2 Axes>"
      ]
     },
     "metadata": {
      "needs_background": "light"
     },
     "output_type": "display_data"
    }
   ],
   "source": [
    "g = sns.FacetGrid(train, col = 'default')\n",
    "g.map(plt.hist, 'credit_history_1', bins = 20)"
   ]
  },
  {
   "cell_type": "markdown",
   "id": "073983ed",
   "metadata": {},
   "source": [
    "#### Data Modelling\n",
    "\n",
    "This is the phase where a Machine learn model is trained using all the explanatory features to make prediction for the target variable.\n",
    "\n",
    "- Importing libraries required for modelling\n"
   ]
  },
  {
   "cell_type": "code",
   "execution_count": 82,
   "id": "12f6d5c7",
   "metadata": {},
   "outputs": [],
   "source": [
    "# Machine learning models\n",
    "from sklearn.linear_model import LogisticRegression, Perceptron, SGDClassifier\n",
    "from sklearn.svm import SVC, LinearSVC\n",
    "from sklearn.ensemble import RandomForestClassifier\n",
    "from sklearn.neighbors import KNeighborsClassifier\n",
    "from sklearn.naive_bayes import GaussianNB\n",
    "from sklearn.tree import DecisionTreeClassifier\n",
    "from sklearn.metrics import classification_report,confusion_matrix\n",
    "from sklearn.model_selection import train_test_split"
   ]
  },
  {
   "cell_type": "markdown",
   "id": "58adcf63",
   "metadata": {},
   "source": [
    "- Creating a test Set to be used to select a baseline model"
   ]
  },
  {
   "cell_type": "code",
   "execution_count": 83,
   "id": "27841645",
   "metadata": {},
   "outputs": [],
   "source": [
    "# Split-out test dataset\n",
    "\n",
    "random_state = 42\n",
    "test_size = 0.20\n",
    "\n",
    "X_train, X_test, y_train, y_test = train_test_split(encoded, y, test_size=0.2, random_state=42)"
   ]
  },
  {
   "cell_type": "code",
   "execution_count": 84,
   "id": "1f63d077",
   "metadata": {},
   "outputs": [
    {
     "data": {
      "text/plain": [
       "((566, 47), (142, 47))"
      ]
     },
     "execution_count": 84,
     "metadata": {},
     "output_type": "execute_result"
    }
   ],
   "source": [
    "X_train.shape, X_test.shape"
   ]
  },
  {
   "cell_type": "code",
   "execution_count": 85,
   "id": "3a5870a0",
   "metadata": {},
   "outputs": [],
   "source": [
    "model = RandomForestClassifier()"
   ]
  },
  {
   "cell_type": "code",
   "execution_count": 86,
   "id": "fde8f1ee",
   "metadata": {},
   "outputs": [
    {
     "data": {
      "text/plain": [
       "RandomForestClassifier()"
      ]
     },
     "execution_count": 86,
     "metadata": {},
     "output_type": "execute_result"
    }
   ],
   "source": [
    "model.fit(X_train, y_train)"
   ]
  },
  {
   "cell_type": "code",
   "execution_count": 87,
   "id": "262f0e6e",
   "metadata": {},
   "outputs": [
    {
     "data": {
      "text/plain": [
       "1.0"
      ]
     },
     "execution_count": 87,
     "metadata": {},
     "output_type": "execute_result"
    }
   ],
   "source": [
    "model.score(X_train, y_train)"
   ]
  },
  {
   "cell_type": "code",
   "execution_count": 88,
   "id": "6640c5a3",
   "metadata": {},
   "outputs": [],
   "source": [
    "predict = model.predict(X_test)"
   ]
  },
  {
   "cell_type": "code",
   "execution_count": 89,
   "id": "7a45b2de",
   "metadata": {},
   "outputs": [
    {
     "name": "stdout",
     "output_type": "stream",
     "text": [
      "              precision    recall  f1-score   support\n",
      "\n",
      "           0       0.90      0.79      0.84       120\n",
      "           1       0.32      0.55      0.41        22\n",
      "\n",
      "    accuracy                           0.75       142\n",
      "   macro avg       0.61      0.67      0.63       142\n",
      "weighted avg       0.81      0.75      0.78       142\n",
      "\n"
     ]
    }
   ],
   "source": [
    "print (classification_report(predict, y_test))"
   ]
  },
  {
   "cell_type": "code",
   "execution_count": 90,
   "id": "eb7cb636",
   "metadata": {},
   "outputs": [
    {
     "data": {
      "text/plain": [
       "RandomForestClassifier()"
      ]
     },
     "execution_count": 90,
     "metadata": {},
     "output_type": "execute_result"
    }
   ],
   "source": [
    "model.fit(encoded, y)"
   ]
  },
  {
   "cell_type": "code",
   "execution_count": 91,
   "id": "b5fcc518",
   "metadata": {},
   "outputs": [
    {
     "data": {
      "text/plain": [
       "1.0"
      ]
     },
     "execution_count": 91,
     "metadata": {},
     "output_type": "execute_result"
    }
   ],
   "source": [
    "model.score(encoded,y)"
   ]
  },
  {
   "cell_type": "code",
   "execution_count": 92,
   "id": "abc47a2c",
   "metadata": {},
   "outputs": [
    {
     "data": {
      "text/plain": [
       "array([0, 0, 0, 0, 0, 0, 0, 1, 0, 1, 0, 0, 0, 0, 0, 0, 0, 0, 0, 1, 0, 1,\n",
       "       0, 0, 0, 0, 0, 0, 0, 0, 1, 1, 0, 0, 0, 0, 1, 0, 1, 0, 0, 0, 1, 0,\n",
       "       0, 0, 0, 0, 0, 0, 0, 1, 0, 0, 0, 0, 0, 1, 0, 0, 1, 0, 0, 0, 0, 0,\n",
       "       0, 0, 0, 0, 0, 0, 0, 1, 0, 1, 0, 0, 0, 0, 0, 0, 0, 0, 0, 0, 0, 1,\n",
       "       0, 0, 0, 0, 0, 1, 0, 0, 0, 0, 0, 1, 0, 0, 1, 0, 0, 1, 0, 0, 0, 0,\n",
       "       0, 0, 0, 0, 0, 0, 0, 0, 0, 0, 0, 0, 1, 0, 0, 0, 0, 0, 1, 0, 0, 0,\n",
       "       0, 0, 0, 0, 0, 0, 0, 0, 0, 0, 1, 0, 1, 0, 0, 0, 0, 0, 0, 0, 0, 0,\n",
       "       0, 0, 0, 0, 0, 0, 0, 0, 0, 0, 1, 0, 0, 1, 0, 0, 0, 0, 0, 0, 0, 0,\n",
       "       0, 1, 0, 1, 0, 0, 0, 1, 0, 0, 0, 0, 0, 0, 0, 0, 0, 0, 1, 0, 0, 1,\n",
       "       1, 0, 0, 1, 1, 0, 0, 0, 1, 0, 0, 0, 0, 0, 0, 0, 1, 0, 0, 0, 0, 0,\n",
       "       0, 0, 1, 0, 0, 1, 0, 0, 0, 0, 0, 0, 0, 0, 0, 0, 0, 0, 0, 0, 1, 0,\n",
       "       0, 0, 0, 0, 0, 0, 0, 0, 1, 0, 0, 0, 0, 0, 0, 0, 0, 0, 0, 0, 0, 0,\n",
       "       1, 0, 0, 0, 0, 0, 0, 0, 0, 0, 1, 0, 0, 0, 0, 0, 0, 0, 0, 0, 0, 0,\n",
       "       0, 0, 0, 0, 0, 0])"
      ]
     },
     "execution_count": 92,
     "metadata": {},
     "output_type": "execute_result"
    }
   ],
   "source": [
    "predict = model.predict(encoded_test)\n",
    "\n",
    "predict"
   ]
  },
  {
   "cell_type": "code",
   "execution_count": null,
   "id": "3cc65105",
   "metadata": {},
   "outputs": [],
   "source": []
  }
 ],
 "metadata": {
  "kernelspec": {
   "display_name": "Python 3 (ipykernel)",
   "language": "python",
   "name": "python3"
  },
  "language_info": {
   "codemirror_mode": {
    "name": "ipython",
    "version": 3
   },
   "file_extension": ".py",
   "mimetype": "text/x-python",
   "name": "python",
   "nbconvert_exporter": "python",
   "pygments_lexer": "ipython3",
   "version": "3.9.7"
  }
 },
 "nbformat": 4,
 "nbformat_minor": 5
}
